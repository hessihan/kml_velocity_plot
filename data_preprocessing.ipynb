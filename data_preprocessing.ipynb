{
 "metadata": {
  "language_info": {
   "codemirror_mode": {
    "name": "ipython",
    "version": 3
   },
   "file_extension": ".py",
   "mimetype": "text/x-python",
   "name": "python",
   "nbconvert_exporter": "python",
   "pygments_lexer": "ipython3",
   "version": "3.8.5-final"
  },
  "orig_nbformat": 2,
  "kernelspec": {
   "name": "python3",
   "display_name": "Python 3.8.5 64-bit",
   "metadata": {
    "interpreter": {
     "hash": "767d51c1340bd893661ea55ea3124f6de3c7a262a8b4abca0554b478b1e2ff90"
    }
   }
  }
 },
 "nbformat": 4,
 "nbformat_minor": 2,
 "cells": [
  {
   "cell_type": "code",
   "execution_count": 3,
   "metadata": {},
   "outputs": [],
   "source": [
    "# Cleaning csv\n",
    "\n",
    "import os\n",
    "import numpy as np\n",
    "import pandas as pd\n",
    "import matplotlib.pyplot as plt"
   ]
  },
  {
   "cell_type": "code",
   "execution_count": 4,
   "metadata": {},
   "outputs": [
    {
     "output_type": "execute_result",
     "data": {
      "text/plain": [
       "0"
      ]
     },
     "metadata": {},
     "execution_count": 4
    }
   ],
   "source": [
    "# Convert nmea to csv\n",
    "os.system(\"python nmeatocsv.py\")"
   ]
  },
  {
   "cell_type": "code",
   "execution_count": 6,
   "metadata": {},
   "outputs": [
    {
     "output_type": "execute_result",
     "data": {
      "text/plain": [
       "           0             1             2              3              4   \\\n",
       "0      $GNGGA     075059.87  3753.0151919              N  13903.4326404   \n",
       "1      $GNGLL  3753.0151919             N  13903.4326404              E   \n",
       "2      $PRDID          -0.1          -0.0        21.5*7E            NaN   \n",
       "3       $PSAT           HPR     075100.00           21.5           -0.1   \n",
       "4      $GNRMC     075100.00             A   3753.0151922              N   \n",
       "...       ...           ...           ...            ...            ...   \n",
       "43494  $GNVTG        251.03             T            NaN              M   \n",
       "43495  $GNGGA     080606.25  3753.6879018              N  13902.9057067   \n",
       "43496  $GNGLL  3753.6879018             N  13902.9057067              E   \n",
       "43497  $PRDID          -1.7          -1.5        38.6*76            NaN   \n",
       "43498   $PSAT           HPR     080606.37           38.6           -1.7   \n",
       "\n",
       "                  5     6      7       8       9    10      11   12    13  \\\n",
       "0                  E     2     12    0.65   5.107    M  37.492    M   NaN   \n",
       "1          075059.87     A   D*7E     NaN     NaN  NaN     NaN  NaN   NaN   \n",
       "2                NaN   NaN    NaN     NaN     NaN  NaN     NaN  NaN   NaN   \n",
       "3               -0.0  G*2F    NaN     NaN     NaN  NaN     NaN  NaN   NaN   \n",
       "4      13903.4326408     E  0.031  176.58  280221  NaN     NaN    D  V*01   \n",
       "...              ...   ...    ...     ...     ...  ...     ...  ...   ...   \n",
       "43494          0.007     N  0.013       K    D*26  NaN     NaN  NaN   NaN   \n",
       "43495              E     4     12    0.63   2.978    M  37.475    M   NaN   \n",
       "43496      080606.25     A   D*75     NaN     NaN  NaN     NaN  NaN   NaN   \n",
       "43497            NaN   NaN    NaN     NaN     NaN  NaN     NaN  NaN   NaN   \n",
       "43498           -1.5  G*28    NaN     NaN     NaN  NaN     NaN  NaN   NaN   \n",
       "\n",
       "            14  \n",
       "0      0885*40  \n",
       "1          NaN  \n",
       "2          NaN  \n",
       "3          NaN  \n",
       "4          NaN  \n",
       "...        ...  \n",
       "43494      NaN  \n",
       "43495  0885*45  \n",
       "43496      NaN  \n",
       "43497      NaN  \n",
       "43498      NaN  \n",
       "\n",
       "[43499 rows x 15 columns]"
      ],
      "text/html": "<div>\n<style scoped>\n    .dataframe tbody tr th:only-of-type {\n        vertical-align: middle;\n    }\n\n    .dataframe tbody tr th {\n        vertical-align: top;\n    }\n\n    .dataframe thead th {\n        text-align: right;\n    }\n</style>\n<table border=\"1\" class=\"dataframe\">\n  <thead>\n    <tr style=\"text-align: right;\">\n      <th></th>\n      <th>0</th>\n      <th>1</th>\n      <th>2</th>\n      <th>3</th>\n      <th>4</th>\n      <th>5</th>\n      <th>6</th>\n      <th>7</th>\n      <th>8</th>\n      <th>9</th>\n      <th>10</th>\n      <th>11</th>\n      <th>12</th>\n      <th>13</th>\n      <th>14</th>\n    </tr>\n  </thead>\n  <tbody>\n    <tr>\n      <th>0</th>\n      <td>$GNGGA</td>\n      <td>075059.87</td>\n      <td>3753.0151919</td>\n      <td>N</td>\n      <td>13903.4326404</td>\n      <td>E</td>\n      <td>2</td>\n      <td>12</td>\n      <td>0.65</td>\n      <td>5.107</td>\n      <td>M</td>\n      <td>37.492</td>\n      <td>M</td>\n      <td>NaN</td>\n      <td>0885*40</td>\n    </tr>\n    <tr>\n      <th>1</th>\n      <td>$GNGLL</td>\n      <td>3753.0151919</td>\n      <td>N</td>\n      <td>13903.4326404</td>\n      <td>E</td>\n      <td>075059.87</td>\n      <td>A</td>\n      <td>D*7E</td>\n      <td>NaN</td>\n      <td>NaN</td>\n      <td>NaN</td>\n      <td>NaN</td>\n      <td>NaN</td>\n      <td>NaN</td>\n      <td>NaN</td>\n    </tr>\n    <tr>\n      <th>2</th>\n      <td>$PRDID</td>\n      <td>-0.1</td>\n      <td>-0.0</td>\n      <td>21.5*7E</td>\n      <td>NaN</td>\n      <td>NaN</td>\n      <td>NaN</td>\n      <td>NaN</td>\n      <td>NaN</td>\n      <td>NaN</td>\n      <td>NaN</td>\n      <td>NaN</td>\n      <td>NaN</td>\n      <td>NaN</td>\n      <td>NaN</td>\n    </tr>\n    <tr>\n      <th>3</th>\n      <td>$PSAT</td>\n      <td>HPR</td>\n      <td>075100.00</td>\n      <td>21.5</td>\n      <td>-0.1</td>\n      <td>-0.0</td>\n      <td>G*2F</td>\n      <td>NaN</td>\n      <td>NaN</td>\n      <td>NaN</td>\n      <td>NaN</td>\n      <td>NaN</td>\n      <td>NaN</td>\n      <td>NaN</td>\n      <td>NaN</td>\n    </tr>\n    <tr>\n      <th>4</th>\n      <td>$GNRMC</td>\n      <td>075100.00</td>\n      <td>A</td>\n      <td>3753.0151922</td>\n      <td>N</td>\n      <td>13903.4326408</td>\n      <td>E</td>\n      <td>0.031</td>\n      <td>176.58</td>\n      <td>280221</td>\n      <td>NaN</td>\n      <td>NaN</td>\n      <td>D</td>\n      <td>V*01</td>\n      <td>NaN</td>\n    </tr>\n    <tr>\n      <th>...</th>\n      <td>...</td>\n      <td>...</td>\n      <td>...</td>\n      <td>...</td>\n      <td>...</td>\n      <td>...</td>\n      <td>...</td>\n      <td>...</td>\n      <td>...</td>\n      <td>...</td>\n      <td>...</td>\n      <td>...</td>\n      <td>...</td>\n      <td>...</td>\n      <td>...</td>\n    </tr>\n    <tr>\n      <th>43494</th>\n      <td>$GNVTG</td>\n      <td>251.03</td>\n      <td>T</td>\n      <td>NaN</td>\n      <td>M</td>\n      <td>0.007</td>\n      <td>N</td>\n      <td>0.013</td>\n      <td>K</td>\n      <td>D*26</td>\n      <td>NaN</td>\n      <td>NaN</td>\n      <td>NaN</td>\n      <td>NaN</td>\n      <td>NaN</td>\n    </tr>\n    <tr>\n      <th>43495</th>\n      <td>$GNGGA</td>\n      <td>080606.25</td>\n      <td>3753.6879018</td>\n      <td>N</td>\n      <td>13902.9057067</td>\n      <td>E</td>\n      <td>4</td>\n      <td>12</td>\n      <td>0.63</td>\n      <td>2.978</td>\n      <td>M</td>\n      <td>37.475</td>\n      <td>M</td>\n      <td>NaN</td>\n      <td>0885*45</td>\n    </tr>\n    <tr>\n      <th>43496</th>\n      <td>$GNGLL</td>\n      <td>3753.6879018</td>\n      <td>N</td>\n      <td>13902.9057067</td>\n      <td>E</td>\n      <td>080606.25</td>\n      <td>A</td>\n      <td>D*75</td>\n      <td>NaN</td>\n      <td>NaN</td>\n      <td>NaN</td>\n      <td>NaN</td>\n      <td>NaN</td>\n      <td>NaN</td>\n      <td>NaN</td>\n    </tr>\n    <tr>\n      <th>43497</th>\n      <td>$PRDID</td>\n      <td>-1.7</td>\n      <td>-1.5</td>\n      <td>38.6*76</td>\n      <td>NaN</td>\n      <td>NaN</td>\n      <td>NaN</td>\n      <td>NaN</td>\n      <td>NaN</td>\n      <td>NaN</td>\n      <td>NaN</td>\n      <td>NaN</td>\n      <td>NaN</td>\n      <td>NaN</td>\n      <td>NaN</td>\n    </tr>\n    <tr>\n      <th>43498</th>\n      <td>$PSAT</td>\n      <td>HPR</td>\n      <td>080606.37</td>\n      <td>38.6</td>\n      <td>-1.7</td>\n      <td>-1.5</td>\n      <td>G*28</td>\n      <td>NaN</td>\n      <td>NaN</td>\n      <td>NaN</td>\n      <td>NaN</td>\n      <td>NaN</td>\n      <td>NaN</td>\n      <td>NaN</td>\n      <td>NaN</td>\n    </tr>\n  </tbody>\n</table>\n<p>43499 rows × 15 columns</p>\n</div>"
     },
     "metadata": {},
     "execution_count": 6
    }
   ],
   "source": [
    "# Read original csv\n",
    "df = pd.read_csv('data/input/processed/2021-02-28_16-50-59.csv', header=None)\n",
    "df"
   ]
  },
  {
   "cell_type": "code",
   "execution_count": 10,
   "metadata": {},
   "outputs": [
    {
     "output_type": "execute_result",
     "data": {
      "text/plain": [
       "array(['$GNGGA', '$GNGLL', '$PRDID', '$PSAT', '$GNRMC', '$GNVTG',\n",
       "       '$GNTXT'], dtype=object)"
      ]
     },
     "metadata": {},
     "execution_count": 10
    }
   ],
   "source": [
    "# See unique values of first column\n",
    "df[0].unique()"
   ]
  },
  {
   "cell_type": "code",
   "execution_count": 23,
   "metadata": {},
   "outputs": [
    {
     "output_type": "execute_result",
     "data": {
      "text/plain": [
       "      Message name   UTC time Status      Latitude N/S indicator  \\\n",
       "4           $GNRMC  075100.00      A  3753.0151922             N   \n",
       "10          $GNRMC  075100.12      A  3753.0151922             N   \n",
       "16          $GNRMC  075100.25      A  3753.0151906             N   \n",
       "22          $GNRMC  075100.37      A  3753.0151903             N   \n",
       "28          $GNRMC  075100.50      A  3753.0151903             N   \n",
       "...            ...        ...    ...           ...           ...   \n",
       "43469       $GNRMC  080605.75      A  3753.6879021             N   \n",
       "43475       $GNRMC  080605.88      A  3753.6879013             N   \n",
       "43481       $GNRMC  080606.00      A  3753.6879025             N   \n",
       "43487       $GNRMC  080606.13      A  3753.6879014             N   \n",
       "43493       $GNRMC  080606.25      A  3753.6879018             N   \n",
       "\n",
       "           Longitude E/W Indicator Speed over ground Course over ground  \\\n",
       "4      13903.4326408             E             0.031             176.58   \n",
       "10     13903.4326405             E             0.022             176.58   \n",
       "16     13903.4326426             E             0.048             176.58   \n",
       "22     13903.4326427             E             0.015             176.58   \n",
       "28     13903.4326436             E             0.016             176.58   \n",
       "...              ...           ...               ...                ...   \n",
       "43469  13902.9057060             E             0.002             251.03   \n",
       "43475  13902.9057070             E             0.013             251.03   \n",
       "43481  13902.9057072             E             0.022             251.03   \n",
       "43487  13902.9057066             E             0.012             251.03   \n",
       "43493  13902.9057067             E             0.007             251.03   \n",
       "\n",
       "      UTC Date          Mode indicator checksum Ending of sentence  \n",
       "4       280221  NaN NaN              D     V*01                NaN  \n",
       "10      280221  NaN NaN              D     V*0D                NaN  \n",
       "16      280221  NaN NaN              D     V*02                NaN  \n",
       "22      280221  NaN NaN              D     V*0D                NaN  \n",
       "28      280221  NaN NaN              D     V*0F                NaN  \n",
       "...        ...  ...  ..            ...      ...                ...  \n",
       "43469   280221  NaN NaN              R     V*19                NaN  \n",
       "43475   280221  NaN NaN              R     V*1B                NaN  \n",
       "43481   280221  NaN NaN              R     V*1D                NaN  \n",
       "43487   280221  NaN NaN              R     V*1B                NaN  \n",
       "43493   280221  NaN NaN              R     V*17                NaN  \n",
       "\n",
       "[7249 rows x 15 columns]"
      ],
      "text/html": "<div>\n<style scoped>\n    .dataframe tbody tr th:only-of-type {\n        vertical-align: middle;\n    }\n\n    .dataframe tbody tr th {\n        vertical-align: top;\n    }\n\n    .dataframe thead th {\n        text-align: right;\n    }\n</style>\n<table border=\"1\" class=\"dataframe\">\n  <thead>\n    <tr style=\"text-align: right;\">\n      <th></th>\n      <th>Message name</th>\n      <th>UTC time</th>\n      <th>Status</th>\n      <th>Latitude</th>\n      <th>N/S indicator</th>\n      <th>Longitude</th>\n      <th>E/W Indicator</th>\n      <th>Speed over ground</th>\n      <th>Course over ground</th>\n      <th>UTC Date</th>\n      <th></th>\n      <th></th>\n      <th>Mode indicator</th>\n      <th>checksum</th>\n      <th>Ending of sentence</th>\n    </tr>\n  </thead>\n  <tbody>\n    <tr>\n      <th>4</th>\n      <td>$GNRMC</td>\n      <td>075100.00</td>\n      <td>A</td>\n      <td>3753.0151922</td>\n      <td>N</td>\n      <td>13903.4326408</td>\n      <td>E</td>\n      <td>0.031</td>\n      <td>176.58</td>\n      <td>280221</td>\n      <td>NaN</td>\n      <td>NaN</td>\n      <td>D</td>\n      <td>V*01</td>\n      <td>NaN</td>\n    </tr>\n    <tr>\n      <th>10</th>\n      <td>$GNRMC</td>\n      <td>075100.12</td>\n      <td>A</td>\n      <td>3753.0151922</td>\n      <td>N</td>\n      <td>13903.4326405</td>\n      <td>E</td>\n      <td>0.022</td>\n      <td>176.58</td>\n      <td>280221</td>\n      <td>NaN</td>\n      <td>NaN</td>\n      <td>D</td>\n      <td>V*0D</td>\n      <td>NaN</td>\n    </tr>\n    <tr>\n      <th>16</th>\n      <td>$GNRMC</td>\n      <td>075100.25</td>\n      <td>A</td>\n      <td>3753.0151906</td>\n      <td>N</td>\n      <td>13903.4326426</td>\n      <td>E</td>\n      <td>0.048</td>\n      <td>176.58</td>\n      <td>280221</td>\n      <td>NaN</td>\n      <td>NaN</td>\n      <td>D</td>\n      <td>V*02</td>\n      <td>NaN</td>\n    </tr>\n    <tr>\n      <th>22</th>\n      <td>$GNRMC</td>\n      <td>075100.37</td>\n      <td>A</td>\n      <td>3753.0151903</td>\n      <td>N</td>\n      <td>13903.4326427</td>\n      <td>E</td>\n      <td>0.015</td>\n      <td>176.58</td>\n      <td>280221</td>\n      <td>NaN</td>\n      <td>NaN</td>\n      <td>D</td>\n      <td>V*0D</td>\n      <td>NaN</td>\n    </tr>\n    <tr>\n      <th>28</th>\n      <td>$GNRMC</td>\n      <td>075100.50</td>\n      <td>A</td>\n      <td>3753.0151903</td>\n      <td>N</td>\n      <td>13903.4326436</td>\n      <td>E</td>\n      <td>0.016</td>\n      <td>176.58</td>\n      <td>280221</td>\n      <td>NaN</td>\n      <td>NaN</td>\n      <td>D</td>\n      <td>V*0F</td>\n      <td>NaN</td>\n    </tr>\n    <tr>\n      <th>...</th>\n      <td>...</td>\n      <td>...</td>\n      <td>...</td>\n      <td>...</td>\n      <td>...</td>\n      <td>...</td>\n      <td>...</td>\n      <td>...</td>\n      <td>...</td>\n      <td>...</td>\n      <td>...</td>\n      <td>...</td>\n      <td>...</td>\n      <td>...</td>\n      <td>...</td>\n    </tr>\n    <tr>\n      <th>43469</th>\n      <td>$GNRMC</td>\n      <td>080605.75</td>\n      <td>A</td>\n      <td>3753.6879021</td>\n      <td>N</td>\n      <td>13902.9057060</td>\n      <td>E</td>\n      <td>0.002</td>\n      <td>251.03</td>\n      <td>280221</td>\n      <td>NaN</td>\n      <td>NaN</td>\n      <td>R</td>\n      <td>V*19</td>\n      <td>NaN</td>\n    </tr>\n    <tr>\n      <th>43475</th>\n      <td>$GNRMC</td>\n      <td>080605.88</td>\n      <td>A</td>\n      <td>3753.6879013</td>\n      <td>N</td>\n      <td>13902.9057070</td>\n      <td>E</td>\n      <td>0.013</td>\n      <td>251.03</td>\n      <td>280221</td>\n      <td>NaN</td>\n      <td>NaN</td>\n      <td>R</td>\n      <td>V*1B</td>\n      <td>NaN</td>\n    </tr>\n    <tr>\n      <th>43481</th>\n      <td>$GNRMC</td>\n      <td>080606.00</td>\n      <td>A</td>\n      <td>3753.6879025</td>\n      <td>N</td>\n      <td>13902.9057072</td>\n      <td>E</td>\n      <td>0.022</td>\n      <td>251.03</td>\n      <td>280221</td>\n      <td>NaN</td>\n      <td>NaN</td>\n      <td>R</td>\n      <td>V*1D</td>\n      <td>NaN</td>\n    </tr>\n    <tr>\n      <th>43487</th>\n      <td>$GNRMC</td>\n      <td>080606.13</td>\n      <td>A</td>\n      <td>3753.6879014</td>\n      <td>N</td>\n      <td>13902.9057066</td>\n      <td>E</td>\n      <td>0.012</td>\n      <td>251.03</td>\n      <td>280221</td>\n      <td>NaN</td>\n      <td>NaN</td>\n      <td>R</td>\n      <td>V*1B</td>\n      <td>NaN</td>\n    </tr>\n    <tr>\n      <th>43493</th>\n      <td>$GNRMC</td>\n      <td>080606.25</td>\n      <td>A</td>\n      <td>3753.6879018</td>\n      <td>N</td>\n      <td>13902.9057067</td>\n      <td>E</td>\n      <td>0.007</td>\n      <td>251.03</td>\n      <td>280221</td>\n      <td>NaN</td>\n      <td>NaN</td>\n      <td>R</td>\n      <td>V*17</td>\n      <td>NaN</td>\n    </tr>\n  </tbody>\n</table>\n<p>7249 rows × 15 columns</p>\n</div>"
     },
     "metadata": {},
     "execution_count": 23
    }
   ],
   "source": [
    "# Extract $GNRMC\n",
    "# Data Description http://navspark.mybigcommerce.com/content/NMEA_Format_v0.1.pdf\n",
    "# RMC – Recommended Minimum Specific GNSS Data \n",
    "\n",
    "gnrmc =  df[df[0] == \"$GNRMC\"]\n",
    "gnrmc.columns = [\n",
    "    \"Message name\",\n",
    "    \"UTC time\", # UTC time in hhmmss.sss format (000000.000 ~ 235959.999)\n",
    "    \"Status\", # Status: ‘V’ = Navigation receiver warning; ‘A’ = Data Valid\n",
    "    \"Latitude\", # Latitude in dddmm.mmmm format. Leading zeros are inserted.\n",
    "    \"N/S indicator\", # Longitude\n",
    "    \"Longitude\", # Longitude in dddmm.mmmm format. Leading zeros are inserted.\n",
    "    \"E/W Indicator\", # ‘E’ = East; ‘W’ = West\n",
    "    \"Speed over ground\", # Speed over ground in knots (000.0 ~ 999.9) \n",
    "    \"Course over ground\", # Course over ground in degrees (000.0 ~ 359.9)\n",
    "    \"UTC Date\", # UTC date of position fix, ddmmyy format\n",
    "    \"\",\n",
    "    \"\",\n",
    "    \"Mode indicator\", # Mode indicator: ‘N’ = Data not valid; ‘A’ = Autonomous mode; ‘D’ = Differential mode; ‘E’ = Estimated (dead reckoning) mode\n",
    "    \"checksum\",\n",
    "    \"Ending of sentence\"\n",
    "    ]\n",
    "gnrmc"
   ]
  },
  {
   "cell_type": "code",
   "execution_count": null,
   "metadata": {},
   "outputs": [],
   "source": []
  }
 ]
}