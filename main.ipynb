{
 "metadata": {
  "language_info": {
   "codemirror_mode": {
    "name": "ipython",
    "version": 3
   },
   "file_extension": ".py",
   "mimetype": "text/x-python",
   "name": "python",
   "nbconvert_exporter": "python",
   "pygments_lexer": "ipython3",
   "version": "3.8.5-final"
  },
  "orig_nbformat": 2,
  "kernelspec": {
   "name": "python3",
   "display_name": "Python 3.8.5 64-bit",
   "metadata": {
    "interpreter": {
     "hash": "767d51c1340bd893661ea55ea3124f6de3c7a262a8b4abca0554b478b1e2ff90"
    }
   }
  }
 },
 "nbformat": 4,
 "nbformat_minor": 2,
 "cells": [
  {
   "cell_type": "code",
   "execution_count": 1,
   "metadata": {},
   "outputs": [],
   "source": [
    "# Cleaning csv\n",
    "\n",
    "import os\n",
    "import numpy as np\n",
    "import pandas as pd\n",
    "import matplotlib.pyplot as plt\n",
    "import simplekml"
   ]
  },
  {
   "cell_type": "code",
   "execution_count": 2,
   "metadata": {},
   "outputs": [
    {
     "output_type": "execute_result",
     "data": {
      "text/plain": [
       "0"
      ]
     },
     "metadata": {},
     "execution_count": 2
    }
   ],
   "source": [
    "# Convert nmea to csv\n",
    "os.system(\"python nmeatocsv.py\")"
   ]
  },
  {
   "cell_type": "code",
   "execution_count": 3,
   "metadata": {},
   "outputs": [
    {
     "output_type": "execute_result",
     "data": {
      "text/plain": [
       "           0             1             2              3              4   \\\n",
       "0      $GNGGA     075059.87  3753.0151919              N  13903.4326404   \n",
       "1      $GNGLL  3753.0151919             N  13903.4326404              E   \n",
       "2      $PRDID          -0.1          -0.0        21.5*7E            NaN   \n",
       "3       $PSAT           HPR     075100.00           21.5           -0.1   \n",
       "4      $GNRMC     075100.00             A   3753.0151922              N   \n",
       "...       ...           ...           ...            ...            ...   \n",
       "43494  $GNVTG        251.03             T            NaN              M   \n",
       "43495  $GNGGA     080606.25  3753.6879018              N  13902.9057067   \n",
       "43496  $GNGLL  3753.6879018             N  13902.9057067              E   \n",
       "43497  $PRDID          -1.7          -1.5        38.6*76            NaN   \n",
       "43498   $PSAT           HPR     080606.37           38.6           -1.7   \n",
       "\n",
       "                  5     6      7       8       9    10      11   12    13  \\\n",
       "0                  E     2     12    0.65   5.107    M  37.492    M   NaN   \n",
       "1          075059.87     A   D*7E     NaN     NaN  NaN     NaN  NaN   NaN   \n",
       "2                NaN   NaN    NaN     NaN     NaN  NaN     NaN  NaN   NaN   \n",
       "3               -0.0  G*2F    NaN     NaN     NaN  NaN     NaN  NaN   NaN   \n",
       "4      13903.4326408     E  0.031  176.58  280221  NaN     NaN    D  V*01   \n",
       "...              ...   ...    ...     ...     ...  ...     ...  ...   ...   \n",
       "43494          0.007     N  0.013       K    D*26  NaN     NaN  NaN   NaN   \n",
       "43495              E     4     12    0.63   2.978    M  37.475    M   NaN   \n",
       "43496      080606.25     A   D*75     NaN     NaN  NaN     NaN  NaN   NaN   \n",
       "43497            NaN   NaN    NaN     NaN     NaN  NaN     NaN  NaN   NaN   \n",
       "43498           -1.5  G*28    NaN     NaN     NaN  NaN     NaN  NaN   NaN   \n",
       "\n",
       "            14  \n",
       "0      0885*40  \n",
       "1          NaN  \n",
       "2          NaN  \n",
       "3          NaN  \n",
       "4          NaN  \n",
       "...        ...  \n",
       "43494      NaN  \n",
       "43495  0885*45  \n",
       "43496      NaN  \n",
       "43497      NaN  \n",
       "43498      NaN  \n",
       "\n",
       "[43499 rows x 15 columns]"
      ],
      "text/html": "<div>\n<style scoped>\n    .dataframe tbody tr th:only-of-type {\n        vertical-align: middle;\n    }\n\n    .dataframe tbody tr th {\n        vertical-align: top;\n    }\n\n    .dataframe thead th {\n        text-align: right;\n    }\n</style>\n<table border=\"1\" class=\"dataframe\">\n  <thead>\n    <tr style=\"text-align: right;\">\n      <th></th>\n      <th>0</th>\n      <th>1</th>\n      <th>2</th>\n      <th>3</th>\n      <th>4</th>\n      <th>5</th>\n      <th>6</th>\n      <th>7</th>\n      <th>8</th>\n      <th>9</th>\n      <th>10</th>\n      <th>11</th>\n      <th>12</th>\n      <th>13</th>\n      <th>14</th>\n    </tr>\n  </thead>\n  <tbody>\n    <tr>\n      <th>0</th>\n      <td>$GNGGA</td>\n      <td>075059.87</td>\n      <td>3753.0151919</td>\n      <td>N</td>\n      <td>13903.4326404</td>\n      <td>E</td>\n      <td>2</td>\n      <td>12</td>\n      <td>0.65</td>\n      <td>5.107</td>\n      <td>M</td>\n      <td>37.492</td>\n      <td>M</td>\n      <td>NaN</td>\n      <td>0885*40</td>\n    </tr>\n    <tr>\n      <th>1</th>\n      <td>$GNGLL</td>\n      <td>3753.0151919</td>\n      <td>N</td>\n      <td>13903.4326404</td>\n      <td>E</td>\n      <td>075059.87</td>\n      <td>A</td>\n      <td>D*7E</td>\n      <td>NaN</td>\n      <td>NaN</td>\n      <td>NaN</td>\n      <td>NaN</td>\n      <td>NaN</td>\n      <td>NaN</td>\n      <td>NaN</td>\n    </tr>\n    <tr>\n      <th>2</th>\n      <td>$PRDID</td>\n      <td>-0.1</td>\n      <td>-0.0</td>\n      <td>21.5*7E</td>\n      <td>NaN</td>\n      <td>NaN</td>\n      <td>NaN</td>\n      <td>NaN</td>\n      <td>NaN</td>\n      <td>NaN</td>\n      <td>NaN</td>\n      <td>NaN</td>\n      <td>NaN</td>\n      <td>NaN</td>\n      <td>NaN</td>\n    </tr>\n    <tr>\n      <th>3</th>\n      <td>$PSAT</td>\n      <td>HPR</td>\n      <td>075100.00</td>\n      <td>21.5</td>\n      <td>-0.1</td>\n      <td>-0.0</td>\n      <td>G*2F</td>\n      <td>NaN</td>\n      <td>NaN</td>\n      <td>NaN</td>\n      <td>NaN</td>\n      <td>NaN</td>\n      <td>NaN</td>\n      <td>NaN</td>\n      <td>NaN</td>\n    </tr>\n    <tr>\n      <th>4</th>\n      <td>$GNRMC</td>\n      <td>075100.00</td>\n      <td>A</td>\n      <td>3753.0151922</td>\n      <td>N</td>\n      <td>13903.4326408</td>\n      <td>E</td>\n      <td>0.031</td>\n      <td>176.58</td>\n      <td>280221</td>\n      <td>NaN</td>\n      <td>NaN</td>\n      <td>D</td>\n      <td>V*01</td>\n      <td>NaN</td>\n    </tr>\n    <tr>\n      <th>...</th>\n      <td>...</td>\n      <td>...</td>\n      <td>...</td>\n      <td>...</td>\n      <td>...</td>\n      <td>...</td>\n      <td>...</td>\n      <td>...</td>\n      <td>...</td>\n      <td>...</td>\n      <td>...</td>\n      <td>...</td>\n      <td>...</td>\n      <td>...</td>\n      <td>...</td>\n    </tr>\n    <tr>\n      <th>43494</th>\n      <td>$GNVTG</td>\n      <td>251.03</td>\n      <td>T</td>\n      <td>NaN</td>\n      <td>M</td>\n      <td>0.007</td>\n      <td>N</td>\n      <td>0.013</td>\n      <td>K</td>\n      <td>D*26</td>\n      <td>NaN</td>\n      <td>NaN</td>\n      <td>NaN</td>\n      <td>NaN</td>\n      <td>NaN</td>\n    </tr>\n    <tr>\n      <th>43495</th>\n      <td>$GNGGA</td>\n      <td>080606.25</td>\n      <td>3753.6879018</td>\n      <td>N</td>\n      <td>13902.9057067</td>\n      <td>E</td>\n      <td>4</td>\n      <td>12</td>\n      <td>0.63</td>\n      <td>2.978</td>\n      <td>M</td>\n      <td>37.475</td>\n      <td>M</td>\n      <td>NaN</td>\n      <td>0885*45</td>\n    </tr>\n    <tr>\n      <th>43496</th>\n      <td>$GNGLL</td>\n      <td>3753.6879018</td>\n      <td>N</td>\n      <td>13902.9057067</td>\n      <td>E</td>\n      <td>080606.25</td>\n      <td>A</td>\n      <td>D*75</td>\n      <td>NaN</td>\n      <td>NaN</td>\n      <td>NaN</td>\n      <td>NaN</td>\n      <td>NaN</td>\n      <td>NaN</td>\n      <td>NaN</td>\n    </tr>\n    <tr>\n      <th>43497</th>\n      <td>$PRDID</td>\n      <td>-1.7</td>\n      <td>-1.5</td>\n      <td>38.6*76</td>\n      <td>NaN</td>\n      <td>NaN</td>\n      <td>NaN</td>\n      <td>NaN</td>\n      <td>NaN</td>\n      <td>NaN</td>\n      <td>NaN</td>\n      <td>NaN</td>\n      <td>NaN</td>\n      <td>NaN</td>\n      <td>NaN</td>\n    </tr>\n    <tr>\n      <th>43498</th>\n      <td>$PSAT</td>\n      <td>HPR</td>\n      <td>080606.37</td>\n      <td>38.6</td>\n      <td>-1.7</td>\n      <td>-1.5</td>\n      <td>G*28</td>\n      <td>NaN</td>\n      <td>NaN</td>\n      <td>NaN</td>\n      <td>NaN</td>\n      <td>NaN</td>\n      <td>NaN</td>\n      <td>NaN</td>\n      <td>NaN</td>\n    </tr>\n  </tbody>\n</table>\n<p>43499 rows × 15 columns</p>\n</div>"
     },
     "metadata": {},
     "execution_count": 3
    }
   ],
   "source": [
    "# Read original csv\n",
    "df = pd.read_csv('data/input/processed/2021-02-28_16-50-59.csv', header=None)\n",
    "df"
   ]
  },
  {
   "cell_type": "code",
   "execution_count": 4,
   "metadata": {},
   "outputs": [
    {
     "output_type": "execute_result",
     "data": {
      "text/plain": [
       "array(['$GNGGA', '$GNGLL', '$PRDID', '$PSAT', '$GNRMC', '$GNVTG',\n",
       "       '$GNTXT'], dtype=object)"
      ]
     },
     "metadata": {},
     "execution_count": 4
    }
   ],
   "source": [
    "# See unique values of first column\n",
    "df[0].unique()"
   ]
  },
  {
   "cell_type": "code",
   "execution_count": 5,
   "metadata": {},
   "outputs": [
    {
     "output_type": "execute_result",
     "data": {
      "text/plain": [
       "      Message name   UTC time Status      Latitude N/S indicator  \\\n",
       "4           $GNRMC  075100.00      A  3753.0151922             N   \n",
       "10          $GNRMC  075100.12      A  3753.0151922             N   \n",
       "16          $GNRMC  075100.25      A  3753.0151906             N   \n",
       "22          $GNRMC  075100.37      A  3753.0151903             N   \n",
       "28          $GNRMC  075100.50      A  3753.0151903             N   \n",
       "...            ...        ...    ...           ...           ...   \n",
       "43469       $GNRMC  080605.75      A  3753.6879021             N   \n",
       "43475       $GNRMC  080605.88      A  3753.6879013             N   \n",
       "43481       $GNRMC  080606.00      A  3753.6879025             N   \n",
       "43487       $GNRMC  080606.13      A  3753.6879014             N   \n",
       "43493       $GNRMC  080606.25      A  3753.6879018             N   \n",
       "\n",
       "           Longitude E/W Indicator Speed over ground Course over ground  \\\n",
       "4      13903.4326408             E             0.031             176.58   \n",
       "10     13903.4326405             E             0.022             176.58   \n",
       "16     13903.4326426             E             0.048             176.58   \n",
       "22     13903.4326427             E             0.015             176.58   \n",
       "28     13903.4326436             E             0.016             176.58   \n",
       "...              ...           ...               ...                ...   \n",
       "43469  13902.9057060             E             0.002             251.03   \n",
       "43475  13902.9057070             E             0.013             251.03   \n",
       "43481  13902.9057072             E             0.022             251.03   \n",
       "43487  13902.9057066             E             0.012             251.03   \n",
       "43493  13902.9057067             E             0.007             251.03   \n",
       "\n",
       "      UTC Date          Mode indicator checksum Ending of sentence  \n",
       "4       280221  NaN NaN              D     V*01                NaN  \n",
       "10      280221  NaN NaN              D     V*0D                NaN  \n",
       "16      280221  NaN NaN              D     V*02                NaN  \n",
       "22      280221  NaN NaN              D     V*0D                NaN  \n",
       "28      280221  NaN NaN              D     V*0F                NaN  \n",
       "...        ...  ...  ..            ...      ...                ...  \n",
       "43469   280221  NaN NaN              R     V*19                NaN  \n",
       "43475   280221  NaN NaN              R     V*1B                NaN  \n",
       "43481   280221  NaN NaN              R     V*1D                NaN  \n",
       "43487   280221  NaN NaN              R     V*1B                NaN  \n",
       "43493   280221  NaN NaN              R     V*17                NaN  \n",
       "\n",
       "[7249 rows x 15 columns]"
      ],
      "text/html": "<div>\n<style scoped>\n    .dataframe tbody tr th:only-of-type {\n        vertical-align: middle;\n    }\n\n    .dataframe tbody tr th {\n        vertical-align: top;\n    }\n\n    .dataframe thead th {\n        text-align: right;\n    }\n</style>\n<table border=\"1\" class=\"dataframe\">\n  <thead>\n    <tr style=\"text-align: right;\">\n      <th></th>\n      <th>Message name</th>\n      <th>UTC time</th>\n      <th>Status</th>\n      <th>Latitude</th>\n      <th>N/S indicator</th>\n      <th>Longitude</th>\n      <th>E/W Indicator</th>\n      <th>Speed over ground</th>\n      <th>Course over ground</th>\n      <th>UTC Date</th>\n      <th></th>\n      <th></th>\n      <th>Mode indicator</th>\n      <th>checksum</th>\n      <th>Ending of sentence</th>\n    </tr>\n  </thead>\n  <tbody>\n    <tr>\n      <th>4</th>\n      <td>$GNRMC</td>\n      <td>075100.00</td>\n      <td>A</td>\n      <td>3753.0151922</td>\n      <td>N</td>\n      <td>13903.4326408</td>\n      <td>E</td>\n      <td>0.031</td>\n      <td>176.58</td>\n      <td>280221</td>\n      <td>NaN</td>\n      <td>NaN</td>\n      <td>D</td>\n      <td>V*01</td>\n      <td>NaN</td>\n    </tr>\n    <tr>\n      <th>10</th>\n      <td>$GNRMC</td>\n      <td>075100.12</td>\n      <td>A</td>\n      <td>3753.0151922</td>\n      <td>N</td>\n      <td>13903.4326405</td>\n      <td>E</td>\n      <td>0.022</td>\n      <td>176.58</td>\n      <td>280221</td>\n      <td>NaN</td>\n      <td>NaN</td>\n      <td>D</td>\n      <td>V*0D</td>\n      <td>NaN</td>\n    </tr>\n    <tr>\n      <th>16</th>\n      <td>$GNRMC</td>\n      <td>075100.25</td>\n      <td>A</td>\n      <td>3753.0151906</td>\n      <td>N</td>\n      <td>13903.4326426</td>\n      <td>E</td>\n      <td>0.048</td>\n      <td>176.58</td>\n      <td>280221</td>\n      <td>NaN</td>\n      <td>NaN</td>\n      <td>D</td>\n      <td>V*02</td>\n      <td>NaN</td>\n    </tr>\n    <tr>\n      <th>22</th>\n      <td>$GNRMC</td>\n      <td>075100.37</td>\n      <td>A</td>\n      <td>3753.0151903</td>\n      <td>N</td>\n      <td>13903.4326427</td>\n      <td>E</td>\n      <td>0.015</td>\n      <td>176.58</td>\n      <td>280221</td>\n      <td>NaN</td>\n      <td>NaN</td>\n      <td>D</td>\n      <td>V*0D</td>\n      <td>NaN</td>\n    </tr>\n    <tr>\n      <th>28</th>\n      <td>$GNRMC</td>\n      <td>075100.50</td>\n      <td>A</td>\n      <td>3753.0151903</td>\n      <td>N</td>\n      <td>13903.4326436</td>\n      <td>E</td>\n      <td>0.016</td>\n      <td>176.58</td>\n      <td>280221</td>\n      <td>NaN</td>\n      <td>NaN</td>\n      <td>D</td>\n      <td>V*0F</td>\n      <td>NaN</td>\n    </tr>\n    <tr>\n      <th>...</th>\n      <td>...</td>\n      <td>...</td>\n      <td>...</td>\n      <td>...</td>\n      <td>...</td>\n      <td>...</td>\n      <td>...</td>\n      <td>...</td>\n      <td>...</td>\n      <td>...</td>\n      <td>...</td>\n      <td>...</td>\n      <td>...</td>\n      <td>...</td>\n      <td>...</td>\n    </tr>\n    <tr>\n      <th>43469</th>\n      <td>$GNRMC</td>\n      <td>080605.75</td>\n      <td>A</td>\n      <td>3753.6879021</td>\n      <td>N</td>\n      <td>13902.9057060</td>\n      <td>E</td>\n      <td>0.002</td>\n      <td>251.03</td>\n      <td>280221</td>\n      <td>NaN</td>\n      <td>NaN</td>\n      <td>R</td>\n      <td>V*19</td>\n      <td>NaN</td>\n    </tr>\n    <tr>\n      <th>43475</th>\n      <td>$GNRMC</td>\n      <td>080605.88</td>\n      <td>A</td>\n      <td>3753.6879013</td>\n      <td>N</td>\n      <td>13902.9057070</td>\n      <td>E</td>\n      <td>0.013</td>\n      <td>251.03</td>\n      <td>280221</td>\n      <td>NaN</td>\n      <td>NaN</td>\n      <td>R</td>\n      <td>V*1B</td>\n      <td>NaN</td>\n    </tr>\n    <tr>\n      <th>43481</th>\n      <td>$GNRMC</td>\n      <td>080606.00</td>\n      <td>A</td>\n      <td>3753.6879025</td>\n      <td>N</td>\n      <td>13902.9057072</td>\n      <td>E</td>\n      <td>0.022</td>\n      <td>251.03</td>\n      <td>280221</td>\n      <td>NaN</td>\n      <td>NaN</td>\n      <td>R</td>\n      <td>V*1D</td>\n      <td>NaN</td>\n    </tr>\n    <tr>\n      <th>43487</th>\n      <td>$GNRMC</td>\n      <td>080606.13</td>\n      <td>A</td>\n      <td>3753.6879014</td>\n      <td>N</td>\n      <td>13902.9057066</td>\n      <td>E</td>\n      <td>0.012</td>\n      <td>251.03</td>\n      <td>280221</td>\n      <td>NaN</td>\n      <td>NaN</td>\n      <td>R</td>\n      <td>V*1B</td>\n      <td>NaN</td>\n    </tr>\n    <tr>\n      <th>43493</th>\n      <td>$GNRMC</td>\n      <td>080606.25</td>\n      <td>A</td>\n      <td>3753.6879018</td>\n      <td>N</td>\n      <td>13902.9057067</td>\n      <td>E</td>\n      <td>0.007</td>\n      <td>251.03</td>\n      <td>280221</td>\n      <td>NaN</td>\n      <td>NaN</td>\n      <td>R</td>\n      <td>V*17</td>\n      <td>NaN</td>\n    </tr>\n  </tbody>\n</table>\n<p>7249 rows × 15 columns</p>\n</div>"
     },
     "metadata": {},
     "execution_count": 5
    }
   ],
   "source": [
    "# Extract $GNRMC\n",
    "# Data Description https://gpsd.gitlab.io/gpsd/NMEA.html#_rmc_recommended_minimum_navigation_information\n",
    "# Data Description http://navspark.mybigcommerce.com/content/NMEA_Format_v0.1.pdf\n",
    "# RMC – Recommended Minimum Specific GNSS Data \n",
    "\n",
    "gnrmc =  df[df[0] == \"$GNRMC\"]\n",
    "gnrmc.columns = [\n",
    "    \"Message name\",\n",
    "    \"UTC time\", # UTC time in hhmmss.sss format (000000.000 ~ 235959.999)\n",
    "    \"Status\", # Status: ‘V’ = Navigation receiver warning; ‘A’ = Data Valid\n",
    "    \"Latitude\", # Latitude in dddmm.mmmm format. Leading zeros are inserted.\n",
    "    \"N/S indicator\", # Longitude\n",
    "    \"Longitude\", # Longitude in dddmm.mmmm format. Leading zeros are inserted.\n",
    "    \"E/W Indicator\", # ‘E’ = East; ‘W’ = West\n",
    "    \"Speed over ground\", # Speed over ground in knots (000.0 ~ 999.9) \n",
    "    \"Course over ground\", # Course over ground in degrees (000.0 ~ 359.9)\n",
    "    \"UTC Date\", # UTC date of position fix, ddmmyy format\n",
    "    \"\",\n",
    "    \"\",\n",
    "    \"Mode indicator\", # Mode indicator: ‘N’ = Data not valid; ‘A’ = Autonomous mode; ‘D’ = Differential mode; ‘E’ = Estimated (dead reckoning) mode\n",
    "    \"checksum\",\n",
    "    \"Ending of sentence\"\n",
    "    ]\n",
    "gnrmc"
   ]
  },
  {
   "cell_type": "code",
   "execution_count": 6,
   "metadata": {},
   "outputs": [
    {
     "output_type": "execute_result",
     "data": {
      "text/plain": [
       "        Latitude   Longitude  Speed over ground\n",
       "4      37.883587  139.057211           0.057412\n",
       "10     37.883587  139.057211           0.040744\n",
       "16     37.883587  139.057211           0.088896\n",
       "22     37.883587  139.057211           0.027780\n",
       "28     37.883587  139.057211           0.029632\n",
       "...          ...         ...                ...\n",
       "43469  37.894798  139.048428           0.003704\n",
       "43475  37.894798  139.048428           0.024076\n",
       "43481  37.894798  139.048428           0.040744\n",
       "43487  37.894798  139.048428           0.022224\n",
       "43493  37.894798  139.048428           0.012964\n",
       "\n",
       "[7249 rows x 3 columns]"
      ],
      "text/html": "<div>\n<style scoped>\n    .dataframe tbody tr th:only-of-type {\n        vertical-align: middle;\n    }\n\n    .dataframe tbody tr th {\n        vertical-align: top;\n    }\n\n    .dataframe thead th {\n        text-align: right;\n    }\n</style>\n<table border=\"1\" class=\"dataframe\">\n  <thead>\n    <tr style=\"text-align: right;\">\n      <th></th>\n      <th>Latitude</th>\n      <th>Longitude</th>\n      <th>Speed over ground</th>\n    </tr>\n  </thead>\n  <tbody>\n    <tr>\n      <th>4</th>\n      <td>37.883587</td>\n      <td>139.057211</td>\n      <td>0.057412</td>\n    </tr>\n    <tr>\n      <th>10</th>\n      <td>37.883587</td>\n      <td>139.057211</td>\n      <td>0.040744</td>\n    </tr>\n    <tr>\n      <th>16</th>\n      <td>37.883587</td>\n      <td>139.057211</td>\n      <td>0.088896</td>\n    </tr>\n    <tr>\n      <th>22</th>\n      <td>37.883587</td>\n      <td>139.057211</td>\n      <td>0.027780</td>\n    </tr>\n    <tr>\n      <th>28</th>\n      <td>37.883587</td>\n      <td>139.057211</td>\n      <td>0.029632</td>\n    </tr>\n    <tr>\n      <th>...</th>\n      <td>...</td>\n      <td>...</td>\n      <td>...</td>\n    </tr>\n    <tr>\n      <th>43469</th>\n      <td>37.894798</td>\n      <td>139.048428</td>\n      <td>0.003704</td>\n    </tr>\n    <tr>\n      <th>43475</th>\n      <td>37.894798</td>\n      <td>139.048428</td>\n      <td>0.024076</td>\n    </tr>\n    <tr>\n      <th>43481</th>\n      <td>37.894798</td>\n      <td>139.048428</td>\n      <td>0.040744</td>\n    </tr>\n    <tr>\n      <th>43487</th>\n      <td>37.894798</td>\n      <td>139.048428</td>\n      <td>0.022224</td>\n    </tr>\n    <tr>\n      <th>43493</th>\n      <td>37.894798</td>\n      <td>139.048428</td>\n      <td>0.012964</td>\n    </tr>\n  </tbody>\n</table>\n<p>7249 rows × 3 columns</p>\n</div>"
     },
     "metadata": {},
     "execution_count": 6
    }
   ],
   "source": [
    "# only Latitude, Longitude, and Speed over ground\n",
    "indicator = gnrmc[[\"N/S indicator\", \"E/W Indicator\"]]\n",
    "gnrmc = gnrmc[[\"Latitude\", \"Longitude\", \"Speed over ground\"]].astype(float)\n",
    "\n",
    "# check digit and sign for lat and long\n",
    "\n",
    "# lat\n",
    "# 度\n",
    "d = (gnrmc[\"Latitude\"] - gnrmc[\"Latitude\"] % 100) / 100\n",
    "# 分\n",
    "m = gnrmc[\"Latitude\"] % 100\n",
    "gnrmc[\"Latitude\"] = d + m / 60\n",
    "gnrmc[\"Latitude\"] *= indicator[\"N/S indicator\"].apply(lambda x: 1 if x == 'N' else -1)\n",
    "\n",
    "# long\n",
    "# 度\n",
    "d = (gnrmc[\"Longitude\"] - gnrmc[\"Longitude\"] % 100) / 100\n",
    "# 分\n",
    "m = gnrmc[\"Longitude\"] % 100\n",
    "gnrmc[\"Longitude\"] = d + m / 60\n",
    "gnrmc[\"Longitude\"] *= indicator[\"E/W Indicator\"].apply(lambda x: 1 if x == 'E' else -1)\n",
    "\n",
    "# 1 knot = 1.852 km/h\n",
    "gnrmc[\"Speed over ground\"] *= 1.852\n",
    "\n",
    "gnrmc"
   ]
  },
  {
   "cell_type": "code",
   "execution_count": 7,
   "metadata": {},
   "outputs": [
    {
     "output_type": "display_data",
     "data": {
      "text/plain": "<Figure size 432x288 with 1 Axes>",
      "image/svg+xml": "<?xml version=\"1.0\" encoding=\"utf-8\" standalone=\"no\"?>\n<!DOCTYPE svg PUBLIC \"-//W3C//DTD SVG 1.1//EN\"\n  \"http://www.w3.org/Graphics/SVG/1.1/DTD/svg11.dtd\">\n<!-- Created with matplotlib (https://matplotlib.org/) -->\n<svg height=\"248.518125pt\" version=\"1.1\" viewBox=\"0 0 381.65 248.518125\" width=\"381.65pt\" xmlns=\"http://www.w3.org/2000/svg\" xmlns:xlink=\"http://www.w3.org/1999/xlink\">\n <defs>\n  <style type=\"text/css\">\n*{stroke-linecap:butt;stroke-linejoin:round;}\n  </style>\n </defs>\n <g id=\"figure_1\">\n  <g id=\"patch_1\">\n   <path d=\"M -0 248.518125 \nL 381.65 248.518125 \nL 381.65 0 \nL -0 0 \nz\n\" style=\"fill:none;\"/>\n  </g>\n  <g id=\"axes_1\">\n   <g id=\"patch_2\">\n    <path d=\"M 39.65 224.64 \nL 374.45 224.64 \nL 374.45 7.2 \nL 39.65 7.2 \nz\n\" style=\"fill:#ffffff;\"/>\n   </g>\n   <g id=\"patch_3\">\n    <path clip-path=\"url(#p0ec5c66fc2)\" d=\"M 54.868182 224.64 \nL 85.304545 224.64 \nL 85.304545 17.554286 \nL 54.868182 17.554286 \nz\n\" style=\"fill:#1f77b4;\"/>\n   </g>\n   <g id=\"patch_4\">\n    <path clip-path=\"url(#p0ec5c66fc2)\" d=\"M 85.304545 224.64 \nL 115.740909 224.64 \nL 115.740909 188.443505 \nL 85.304545 188.443505 \nz\n\" style=\"fill:#1f77b4;\"/>\n   </g>\n   <g id=\"patch_5\">\n    <path clip-path=\"url(#p0ec5c66fc2)\" d=\"M 115.740909 224.64 \nL 146.177273 224.64 \nL 146.177273 182.43976 \nL 115.740909 182.43976 \nz\n\" style=\"fill:#1f77b4;\"/>\n   </g>\n   <g id=\"patch_6\">\n    <path clip-path=\"url(#p0ec5c66fc2)\" d=\"M 146.177273 224.64 \nL 176.613636 224.64 \nL 176.613636 159.468908 \nL 146.177273 159.468908 \nz\n\" style=\"fill:#1f77b4;\"/>\n   </g>\n   <g id=\"patch_7\">\n    <path clip-path=\"url(#p0ec5c66fc2)\" d=\"M 176.613636 224.64 \nL 207.05 224.64 \nL 207.05 174.608788 \nL 176.613636 174.608788 \nz\n\" style=\"fill:#1f77b4;\"/>\n   </g>\n   <g id=\"patch_8\">\n    <path clip-path=\"url(#p0ec5c66fc2)\" d=\"M 207.05 224.64 \nL 237.486364 224.64 \nL 237.486364 135.540936 \nL 207.05 135.540936 \nz\n\" style=\"fill:#1f77b4;\"/>\n   </g>\n   <g id=\"patch_9\">\n    <path clip-path=\"url(#p0ec5c66fc2)\" d=\"M 237.486364 224.64 \nL 267.922727 224.64 \nL 267.922727 161.383145 \nL 237.486364 161.383145 \nz\n\" style=\"fill:#1f77b4;\"/>\n   </g>\n   <g id=\"patch_10\">\n    <path clip-path=\"url(#p0ec5c66fc2)\" d=\"M 267.922727 224.64 \nL 298.359091 224.64 \nL 298.359091 175.391885 \nL 267.922727 175.391885 \nz\n\" style=\"fill:#1f77b4;\"/>\n   </g>\n   <g id=\"patch_11\">\n    <path clip-path=\"url(#p0ec5c66fc2)\" d=\"M 298.359091 224.64 \nL 328.795455 224.64 \nL 328.795455 206.28072 \nL 298.359091 206.28072 \nz\n\" style=\"fill:#1f77b4;\"/>\n   </g>\n   <g id=\"patch_12\">\n    <path clip-path=\"url(#p0ec5c66fc2)\" d=\"M 328.795455 224.64 \nL 359.231818 224.64 \nL 359.231818 214.546747 \nL 328.795455 214.546747 \nz\n\" style=\"fill:#1f77b4;\"/>\n   </g>\n   <g id=\"matplotlib.axis_1\">\n    <g id=\"xtick_1\">\n     <g id=\"line2d_1\">\n      <path clip-path=\"url(#p0ec5c66fc2)\" d=\"M 54.858293 224.64 \nL 54.858293 7.2 \n\" style=\"fill:none;stroke:#b0b0b0;stroke-linecap:square;stroke-width:0.8;\"/>\n     </g>\n     <g id=\"line2d_2\">\n      <defs>\n       <path d=\"M 0 0 \nL 0 3.5 \n\" id=\"mfb7331b523\" style=\"stroke:#000000;stroke-width:0.8;\"/>\n      </defs>\n      <g>\n       <use style=\"stroke:#000000;stroke-width:0.8;\" x=\"54.858293\" xlink:href=\"#mfb7331b523\" y=\"224.64\"/>\n      </g>\n     </g>\n     <g id=\"text_1\">\n      <!-- 0 -->\n      <defs>\n       <path d=\"M 31.78125 66.40625 \nQ 24.171875 66.40625 20.328125 58.90625 \nQ 16.5 51.421875 16.5 36.375 \nQ 16.5 21.390625 20.328125 13.890625 \nQ 24.171875 6.390625 31.78125 6.390625 \nQ 39.453125 6.390625 43.28125 13.890625 \nQ 47.125 21.390625 47.125 36.375 \nQ 47.125 51.421875 43.28125 58.90625 \nQ 39.453125 66.40625 31.78125 66.40625 \nz\nM 31.78125 74.21875 \nQ 44.046875 74.21875 50.515625 64.515625 \nQ 56.984375 54.828125 56.984375 36.375 \nQ 56.984375 17.96875 50.515625 8.265625 \nQ 44.046875 -1.421875 31.78125 -1.421875 \nQ 19.53125 -1.421875 13.0625 8.265625 \nQ 6.59375 17.96875 6.59375 36.375 \nQ 6.59375 54.828125 13.0625 64.515625 \nQ 19.53125 74.21875 31.78125 74.21875 \nz\n\" id=\"DejaVuSans-48\"/>\n      </defs>\n      <g transform=\"translate(51.677043 239.238438)scale(0.1 -0.1)\">\n       <use xlink:href=\"#DejaVuSans-48\"/>\n      </g>\n     </g>\n    </g>\n    <g id=\"xtick_2\">\n     <g id=\"line2d_3\">\n      <path clip-path=\"url(#p0ec5c66fc2)\" d=\"M 108.25462 224.64 \nL 108.25462 7.2 \n\" style=\"fill:none;stroke:#b0b0b0;stroke-linecap:square;stroke-width:0.8;\"/>\n     </g>\n     <g id=\"line2d_4\">\n      <g>\n       <use style=\"stroke:#000000;stroke-width:0.8;\" x=\"108.25462\" xlink:href=\"#mfb7331b523\" y=\"224.64\"/>\n      </g>\n     </g>\n     <g id=\"text_2\">\n      <!-- 10 -->\n      <defs>\n       <path d=\"M 12.40625 8.296875 \nL 28.515625 8.296875 \nL 28.515625 63.921875 \nL 10.984375 60.40625 \nL 10.984375 69.390625 \nL 28.421875 72.90625 \nL 38.28125 72.90625 \nL 38.28125 8.296875 \nL 54.390625 8.296875 \nL 54.390625 0 \nL 12.40625 0 \nz\n\" id=\"DejaVuSans-49\"/>\n      </defs>\n      <g transform=\"translate(101.89212 239.238438)scale(0.1 -0.1)\">\n       <use xlink:href=\"#DejaVuSans-49\"/>\n       <use x=\"63.623047\" xlink:href=\"#DejaVuSans-48\"/>\n      </g>\n     </g>\n    </g>\n    <g id=\"xtick_3\">\n     <g id=\"line2d_5\">\n      <path clip-path=\"url(#p0ec5c66fc2)\" d=\"M 161.650947 224.64 \nL 161.650947 7.2 \n\" style=\"fill:none;stroke:#b0b0b0;stroke-linecap:square;stroke-width:0.8;\"/>\n     </g>\n     <g id=\"line2d_6\">\n      <g>\n       <use style=\"stroke:#000000;stroke-width:0.8;\" x=\"161.650947\" xlink:href=\"#mfb7331b523\" y=\"224.64\"/>\n      </g>\n     </g>\n     <g id=\"text_3\">\n      <!-- 20 -->\n      <defs>\n       <path d=\"M 19.1875 8.296875 \nL 53.609375 8.296875 \nL 53.609375 0 \nL 7.328125 0 \nL 7.328125 8.296875 \nQ 12.9375 14.109375 22.625 23.890625 \nQ 32.328125 33.6875 34.8125 36.53125 \nQ 39.546875 41.84375 41.421875 45.53125 \nQ 43.3125 49.21875 43.3125 52.78125 \nQ 43.3125 58.59375 39.234375 62.25 \nQ 35.15625 65.921875 28.609375 65.921875 \nQ 23.96875 65.921875 18.8125 64.3125 \nQ 13.671875 62.703125 7.8125 59.421875 \nL 7.8125 69.390625 \nQ 13.765625 71.78125 18.9375 73 \nQ 24.125 74.21875 28.421875 74.21875 \nQ 39.75 74.21875 46.484375 68.546875 \nQ 53.21875 62.890625 53.21875 53.421875 \nQ 53.21875 48.921875 51.53125 44.890625 \nQ 49.859375 40.875 45.40625 35.40625 \nQ 44.1875 33.984375 37.640625 27.21875 \nQ 31.109375 20.453125 19.1875 8.296875 \nz\n\" id=\"DejaVuSans-50\"/>\n      </defs>\n      <g transform=\"translate(155.288447 239.238438)scale(0.1 -0.1)\">\n       <use xlink:href=\"#DejaVuSans-50\"/>\n       <use x=\"63.623047\" xlink:href=\"#DejaVuSans-48\"/>\n      </g>\n     </g>\n    </g>\n    <g id=\"xtick_4\">\n     <g id=\"line2d_7\">\n      <path clip-path=\"url(#p0ec5c66fc2)\" d=\"M 215.047275 224.64 \nL 215.047275 7.2 \n\" style=\"fill:none;stroke:#b0b0b0;stroke-linecap:square;stroke-width:0.8;\"/>\n     </g>\n     <g id=\"line2d_8\">\n      <g>\n       <use style=\"stroke:#000000;stroke-width:0.8;\" x=\"215.047275\" xlink:href=\"#mfb7331b523\" y=\"224.64\"/>\n      </g>\n     </g>\n     <g id=\"text_4\">\n      <!-- 30 -->\n      <defs>\n       <path d=\"M 40.578125 39.3125 \nQ 47.65625 37.796875 51.625 33 \nQ 55.609375 28.21875 55.609375 21.1875 \nQ 55.609375 10.40625 48.1875 4.484375 \nQ 40.765625 -1.421875 27.09375 -1.421875 \nQ 22.515625 -1.421875 17.65625 -0.515625 \nQ 12.796875 0.390625 7.625 2.203125 \nL 7.625 11.71875 \nQ 11.71875 9.328125 16.59375 8.109375 \nQ 21.484375 6.890625 26.8125 6.890625 \nQ 36.078125 6.890625 40.9375 10.546875 \nQ 45.796875 14.203125 45.796875 21.1875 \nQ 45.796875 27.640625 41.28125 31.265625 \nQ 36.765625 34.90625 28.71875 34.90625 \nL 20.21875 34.90625 \nL 20.21875 43.015625 \nL 29.109375 43.015625 \nQ 36.375 43.015625 40.234375 45.921875 \nQ 44.09375 48.828125 44.09375 54.296875 \nQ 44.09375 59.90625 40.109375 62.90625 \nQ 36.140625 65.921875 28.71875 65.921875 \nQ 24.65625 65.921875 20.015625 65.03125 \nQ 15.375 64.15625 9.8125 62.3125 \nL 9.8125 71.09375 \nQ 15.4375 72.65625 20.34375 73.4375 \nQ 25.25 74.21875 29.59375 74.21875 \nQ 40.828125 74.21875 47.359375 69.109375 \nQ 53.90625 64.015625 53.90625 55.328125 \nQ 53.90625 49.265625 50.4375 45.09375 \nQ 46.96875 40.921875 40.578125 39.3125 \nz\n\" id=\"DejaVuSans-51\"/>\n      </defs>\n      <g transform=\"translate(208.684775 239.238438)scale(0.1 -0.1)\">\n       <use xlink:href=\"#DejaVuSans-51\"/>\n       <use x=\"63.623047\" xlink:href=\"#DejaVuSans-48\"/>\n      </g>\n     </g>\n    </g>\n    <g id=\"xtick_5\">\n     <g id=\"line2d_9\">\n      <path clip-path=\"url(#p0ec5c66fc2)\" d=\"M 268.443602 224.64 \nL 268.443602 7.2 \n\" style=\"fill:none;stroke:#b0b0b0;stroke-linecap:square;stroke-width:0.8;\"/>\n     </g>\n     <g id=\"line2d_10\">\n      <g>\n       <use style=\"stroke:#000000;stroke-width:0.8;\" x=\"268.443602\" xlink:href=\"#mfb7331b523\" y=\"224.64\"/>\n      </g>\n     </g>\n     <g id=\"text_5\">\n      <!-- 40 -->\n      <defs>\n       <path d=\"M 37.796875 64.3125 \nL 12.890625 25.390625 \nL 37.796875 25.390625 \nz\nM 35.203125 72.90625 \nL 47.609375 72.90625 \nL 47.609375 25.390625 \nL 58.015625 25.390625 \nL 58.015625 17.1875 \nL 47.609375 17.1875 \nL 47.609375 0 \nL 37.796875 0 \nL 37.796875 17.1875 \nL 4.890625 17.1875 \nL 4.890625 26.703125 \nz\n\" id=\"DejaVuSans-52\"/>\n      </defs>\n      <g transform=\"translate(262.081102 239.238438)scale(0.1 -0.1)\">\n       <use xlink:href=\"#DejaVuSans-52\"/>\n       <use x=\"63.623047\" xlink:href=\"#DejaVuSans-48\"/>\n      </g>\n     </g>\n    </g>\n    <g id=\"xtick_6\">\n     <g id=\"line2d_11\">\n      <path clip-path=\"url(#p0ec5c66fc2)\" d=\"M 321.839929 224.64 \nL 321.839929 7.2 \n\" style=\"fill:none;stroke:#b0b0b0;stroke-linecap:square;stroke-width:0.8;\"/>\n     </g>\n     <g id=\"line2d_12\">\n      <g>\n       <use style=\"stroke:#000000;stroke-width:0.8;\" x=\"321.839929\" xlink:href=\"#mfb7331b523\" y=\"224.64\"/>\n      </g>\n     </g>\n     <g id=\"text_6\">\n      <!-- 50 -->\n      <defs>\n       <path d=\"M 10.796875 72.90625 \nL 49.515625 72.90625 \nL 49.515625 64.59375 \nL 19.828125 64.59375 \nL 19.828125 46.734375 \nQ 21.96875 47.46875 24.109375 47.828125 \nQ 26.265625 48.1875 28.421875 48.1875 \nQ 40.625 48.1875 47.75 41.5 \nQ 54.890625 34.8125 54.890625 23.390625 \nQ 54.890625 11.625 47.5625 5.09375 \nQ 40.234375 -1.421875 26.90625 -1.421875 \nQ 22.3125 -1.421875 17.546875 -0.640625 \nQ 12.796875 0.140625 7.71875 1.703125 \nL 7.71875 11.625 \nQ 12.109375 9.234375 16.796875 8.0625 \nQ 21.484375 6.890625 26.703125 6.890625 \nQ 35.15625 6.890625 40.078125 11.328125 \nQ 45.015625 15.765625 45.015625 23.390625 \nQ 45.015625 31 40.078125 35.4375 \nQ 35.15625 39.890625 26.703125 39.890625 \nQ 22.75 39.890625 18.8125 39.015625 \nQ 14.890625 38.140625 10.796875 36.28125 \nz\n\" id=\"DejaVuSans-53\"/>\n      </defs>\n      <g transform=\"translate(315.477429 239.238438)scale(0.1 -0.1)\">\n       <use xlink:href=\"#DejaVuSans-53\"/>\n       <use x=\"63.623047\" xlink:href=\"#DejaVuSans-48\"/>\n      </g>\n     </g>\n    </g>\n   </g>\n   <g id=\"matplotlib.axis_2\">\n    <g id=\"ytick_1\">\n     <g id=\"line2d_13\">\n      <path clip-path=\"url(#p0ec5c66fc2)\" d=\"M 39.65 224.64 \nL 374.45 224.64 \n\" style=\"fill:none;stroke:#b0b0b0;stroke-linecap:square;stroke-width:0.8;\"/>\n     </g>\n     <g id=\"line2d_14\">\n      <defs>\n       <path d=\"M 0 0 \nL -3.5 0 \n\" id=\"m7fed1a4cec\" style=\"stroke:#000000;stroke-width:0.8;\"/>\n      </defs>\n      <g>\n       <use style=\"stroke:#000000;stroke-width:0.8;\" x=\"39.65\" xlink:href=\"#m7fed1a4cec\" y=\"224.64\"/>\n      </g>\n     </g>\n     <g id=\"text_7\">\n      <!-- 0 -->\n      <g transform=\"translate(26.2875 228.439219)scale(0.1 -0.1)\">\n       <use xlink:href=\"#DejaVuSans-48\"/>\n      </g>\n     </g>\n    </g>\n    <g id=\"ytick_2\">\n     <g id=\"line2d_15\">\n      <path clip-path=\"url(#p0ec5c66fc2)\" d=\"M 39.65 181.134598 \nL 374.45 181.134598 \n\" style=\"fill:none;stroke:#b0b0b0;stroke-linecap:square;stroke-width:0.8;\"/>\n     </g>\n     <g id=\"line2d_16\">\n      <g>\n       <use style=\"stroke:#000000;stroke-width:0.8;\" x=\"39.65\" xlink:href=\"#m7fed1a4cec\" y=\"181.134598\"/>\n      </g>\n     </g>\n     <g id=\"text_8\">\n      <!-- 500 -->\n      <g transform=\"translate(13.5625 184.933817)scale(0.1 -0.1)\">\n       <use xlink:href=\"#DejaVuSans-53\"/>\n       <use x=\"63.623047\" xlink:href=\"#DejaVuSans-48\"/>\n       <use x=\"127.246094\" xlink:href=\"#DejaVuSans-48\"/>\n      </g>\n     </g>\n    </g>\n    <g id=\"ytick_3\">\n     <g id=\"line2d_17\">\n      <path clip-path=\"url(#p0ec5c66fc2)\" d=\"M 39.65 137.629196 \nL 374.45 137.629196 \n\" style=\"fill:none;stroke:#b0b0b0;stroke-linecap:square;stroke-width:0.8;\"/>\n     </g>\n     <g id=\"line2d_18\">\n      <g>\n       <use style=\"stroke:#000000;stroke-width:0.8;\" x=\"39.65\" xlink:href=\"#m7fed1a4cec\" y=\"137.629196\"/>\n      </g>\n     </g>\n     <g id=\"text_9\">\n      <!-- 1000 -->\n      <g transform=\"translate(7.2 141.428414)scale(0.1 -0.1)\">\n       <use xlink:href=\"#DejaVuSans-49\"/>\n       <use x=\"63.623047\" xlink:href=\"#DejaVuSans-48\"/>\n       <use x=\"127.246094\" xlink:href=\"#DejaVuSans-48\"/>\n       <use x=\"190.869141\" xlink:href=\"#DejaVuSans-48\"/>\n      </g>\n     </g>\n    </g>\n    <g id=\"ytick_4\">\n     <g id=\"line2d_19\">\n      <path clip-path=\"url(#p0ec5c66fc2)\" d=\"M 39.65 94.123794 \nL 374.45 94.123794 \n\" style=\"fill:none;stroke:#b0b0b0;stroke-linecap:square;stroke-width:0.8;\"/>\n     </g>\n     <g id=\"line2d_20\">\n      <g>\n       <use style=\"stroke:#000000;stroke-width:0.8;\" x=\"39.65\" xlink:href=\"#m7fed1a4cec\" y=\"94.123794\"/>\n      </g>\n     </g>\n     <g id=\"text_10\">\n      <!-- 1500 -->\n      <g transform=\"translate(7.2 97.923012)scale(0.1 -0.1)\">\n       <use xlink:href=\"#DejaVuSans-49\"/>\n       <use x=\"63.623047\" xlink:href=\"#DejaVuSans-53\"/>\n       <use x=\"127.246094\" xlink:href=\"#DejaVuSans-48\"/>\n       <use x=\"190.869141\" xlink:href=\"#DejaVuSans-48\"/>\n      </g>\n     </g>\n    </g>\n    <g id=\"ytick_5\">\n     <g id=\"line2d_21\">\n      <path clip-path=\"url(#p0ec5c66fc2)\" d=\"M 39.65 50.618391 \nL 374.45 50.618391 \n\" style=\"fill:none;stroke:#b0b0b0;stroke-linecap:square;stroke-width:0.8;\"/>\n     </g>\n     <g id=\"line2d_22\">\n      <g>\n       <use style=\"stroke:#000000;stroke-width:0.8;\" x=\"39.65\" xlink:href=\"#m7fed1a4cec\" y=\"50.618391\"/>\n      </g>\n     </g>\n     <g id=\"text_11\">\n      <!-- 2000 -->\n      <g transform=\"translate(7.2 54.41761)scale(0.1 -0.1)\">\n       <use xlink:href=\"#DejaVuSans-50\"/>\n       <use x=\"63.623047\" xlink:href=\"#DejaVuSans-48\"/>\n       <use x=\"127.246094\" xlink:href=\"#DejaVuSans-48\"/>\n       <use x=\"190.869141\" xlink:href=\"#DejaVuSans-48\"/>\n      </g>\n     </g>\n    </g>\n   </g>\n   <g id=\"patch_13\">\n    <path d=\"M 39.65 224.64 \nL 39.65 7.2 \n\" style=\"fill:none;stroke:#000000;stroke-linecap:square;stroke-linejoin:miter;stroke-width:0.8;\"/>\n   </g>\n   <g id=\"patch_14\">\n    <path d=\"M 374.45 224.64 \nL 374.45 7.2 \n\" style=\"fill:none;stroke:#000000;stroke-linecap:square;stroke-linejoin:miter;stroke-width:0.8;\"/>\n   </g>\n   <g id=\"patch_15\">\n    <path d=\"M 39.65 224.64 \nL 374.45 224.64 \n\" style=\"fill:none;stroke:#000000;stroke-linecap:square;stroke-linejoin:miter;stroke-width:0.8;\"/>\n   </g>\n   <g id=\"patch_16\">\n    <path d=\"M 39.65 7.2 \nL 374.45 7.2 \n\" style=\"fill:none;stroke:#000000;stroke-linecap:square;stroke-linejoin:miter;stroke-width:0.8;\"/>\n   </g>\n  </g>\n </g>\n <defs>\n  <clipPath id=\"p0ec5c66fc2\">\n   <rect height=\"217.44\" width=\"334.8\" x=\"39.65\" y=\"7.2\"/>\n  </clipPath>\n </defs>\n</svg>\n",
      "image/png": "[encoded data removed]"
     },
     "metadata": {
      "needs_background": "light"
     }
    }
   ],
   "source": [
    "gnrmc[\"Speed over ground\"].hist()\n",
    "plt.show()"
   ]
  },
  {
   "cell_type": "code",
   "execution_count": 8,
   "metadata": {},
   "outputs": [],
   "source": [
    "# delete data less than 0.5 km/h\n",
    "gnrmc = gnrmc[gnrmc[\"Speed over ground\"] > 0.5]"
   ]
  },
  {
   "cell_type": "code",
   "execution_count": 9,
   "metadata": {},
   "outputs": [
    {
     "output_type": "stream",
     "name": "stderr",
     "text": [
      "<ipython-input-9-a053ef461b55>:2: SettingWithCopyWarning: \nA value is trying to be set on a copy of a slice from a DataFrame.\nTry using .loc[row_indexer,col_indexer] = value instead\n\nSee the caveats in the documentation: https://pandas.pydata.org/pandas-docs/stable/user_guide/indexing.html#returning-a-view-versus-a-copy\n  gnrmc[\"Min-max scaled speed\"] = ( gnrmc[\"Speed over ground\"] - gnrmc[\"Speed over ground\"].min() ) / ( gnrmc[\"Speed over ground\"].max() - gnrmc[\"Speed over ground\"].min() )\n"
     ]
    },
    {
     "output_type": "execute_result",
     "data": {
      "text/plain": [
       "<matplotlib.axes._subplots.AxesSubplot at 0x7f7ffcd348e0>"
      ]
     },
     "metadata": {},
     "execution_count": 9
    },
    {
     "output_type": "display_data",
     "data": {
      "text/plain": "<Figure size 432x288 with 1 Axes>",
      "image/svg+xml": "<?xml version=\"1.0\" encoding=\"utf-8\" standalone=\"no\"?>\n<!DOCTYPE svg PUBLIC \"-//W3C//DTD SVG 1.1//EN\"\n  \"http://www.w3.org/Graphics/SVG/1.1/DTD/svg11.dtd\">\n<!-- Created with matplotlib (https://matplotlib.org/) -->\n<svg height=\"248.518125pt\" version=\"1.1\" viewBox=\"0 0 381.65 248.518125\" width=\"381.65pt\" xmlns=\"http://www.w3.org/2000/svg\" xmlns:xlink=\"http://www.w3.org/1999/xlink\">\n <defs>\n  <style type=\"text/css\">\n*{stroke-linecap:butt;stroke-linejoin:round;}\n  </style>\n </defs>\n <g id=\"figure_1\">\n  <g id=\"patch_1\">\n   <path d=\"M -0 248.518125 \nL 381.65 248.518125 \nL 381.65 0 \nL -0 0 \nz\n\" style=\"fill:none;\"/>\n  </g>\n  <g id=\"axes_1\">\n   <g id=\"patch_2\">\n    <path d=\"M 39.65 224.64 \nL 374.45 224.64 \nL 374.45 7.2 \nL 39.65 7.2 \nz\n\" style=\"fill:#ffffff;\"/>\n   </g>\n   <g id=\"patch_3\">\n    <path clip-path=\"url(#p80ea6a9bb7)\" d=\"M 54.868182 224.64 \nL 85.304545 224.64 \nL 85.304545 97.787495 \nL 54.868182 97.787495 \nz\n\" style=\"fill:#1f77b4;\"/>\n   </g>\n   <g id=\"patch_4\">\n    <path clip-path=\"url(#p80ea6a9bb7)\" d=\"M 85.304545 224.64 \nL 115.740909 224.64 \nL 115.740909 143.806542 \nL 85.304545 143.806542 \nz\n\" style=\"fill:#1f77b4;\"/>\n   </g>\n   <g id=\"patch_5\">\n    <path clip-path=\"url(#p80ea6a9bb7)\" d=\"M 115.740909 224.64 \nL 146.177273 224.64 \nL 146.177273 118.79619 \nL 115.740909 118.79619 \nz\n\" style=\"fill:#1f77b4;\"/>\n   </g>\n   <g id=\"patch_6\">\n    <path clip-path=\"url(#p80ea6a9bb7)\" d=\"M 146.177273 224.64 \nL 176.613636 224.64 \nL 176.613636 80.38029 \nL 146.177273 80.38029 \nz\n\" style=\"fill:#1f77b4;\"/>\n   </g>\n   <g id=\"patch_7\">\n    <path clip-path=\"url(#p80ea6a9bb7)\" d=\"M 176.613636 224.64 \nL 207.05 224.64 \nL 207.05 111.993375 \nL 176.613636 111.993375 \nz\n\" style=\"fill:#1f77b4;\"/>\n   </g>\n   <g id=\"patch_8\">\n    <path clip-path=\"url(#p80ea6a9bb7)\" d=\"M 207.05 224.64 \nL 237.486364 224.64 \nL 237.486364 17.554286 \nL 207.05 17.554286 \nz\n\" style=\"fill:#1f77b4;\"/>\n   </g>\n   <g id=\"patch_9\">\n    <path clip-path=\"url(#p80ea6a9bb7)\" d=\"M 237.486364 224.64 \nL 267.922727 224.64 \nL 267.922727 79.980124 \nL 237.486364 79.980124 \nz\n\" style=\"fill:#1f77b4;\"/>\n   </g>\n   <g id=\"patch_10\">\n    <path clip-path=\"url(#p80ea6a9bb7)\" d=\"M 267.922727 224.64 \nL 298.359091 224.64 \nL 298.359091 114.194286 \nL 267.922727 114.194286 \nz\n\" style=\"fill:#1f77b4;\"/>\n   </g>\n   <g id=\"patch_11\">\n    <path clip-path=\"url(#p80ea6a9bb7)\" d=\"M 298.359091 224.64 \nL 328.795455 224.64 \nL 328.795455 186.824348 \nL 298.359091 186.824348 \nz\n\" style=\"fill:#1f77b4;\"/>\n   </g>\n   <g id=\"patch_12\">\n    <path clip-path=\"url(#p80ea6a9bb7)\" d=\"M 328.795455 224.64 \nL 359.231818 224.64 \nL 359.231818 202.030642 \nL 328.795455 202.030642 \nz\n\" style=\"fill:#1f77b4;\"/>\n   </g>\n   <g id=\"matplotlib.axis_1\">\n    <g id=\"xtick_1\">\n     <g id=\"line2d_1\">\n      <path clip-path=\"url(#p80ea6a9bb7)\" d=\"M 54.868182 224.64 \nL 54.868182 7.2 \n\" style=\"fill:none;stroke:#b0b0b0;stroke-linecap:square;stroke-width:0.8;\"/>\n     </g>\n     <g id=\"line2d_2\">\n      <defs>\n       <path d=\"M 0 0 \nL 0 3.5 \n\" id=\"mb00e691af2\" style=\"stroke:#000000;stroke-width:0.8;\"/>\n      </defs>\n      <g>\n       <use style=\"stroke:#000000;stroke-width:0.8;\" x=\"54.868182\" xlink:href=\"#mb00e691af2\" y=\"224.64\"/>\n      </g>\n     </g>\n     <g id=\"text_1\">\n      <!-- 0.0 -->\n      <defs>\n       <path d=\"M 31.78125 66.40625 \nQ 24.171875 66.40625 20.328125 58.90625 \nQ 16.5 51.421875 16.5 36.375 \nQ 16.5 21.390625 20.328125 13.890625 \nQ 24.171875 6.390625 31.78125 6.390625 \nQ 39.453125 6.390625 43.28125 13.890625 \nQ 47.125 21.390625 47.125 36.375 \nQ 47.125 51.421875 43.28125 58.90625 \nQ 39.453125 66.40625 31.78125 66.40625 \nz\nM 31.78125 74.21875 \nQ 44.046875 74.21875 50.515625 64.515625 \nQ 56.984375 54.828125 56.984375 36.375 \nQ 56.984375 17.96875 50.515625 8.265625 \nQ 44.046875 -1.421875 31.78125 -1.421875 \nQ 19.53125 -1.421875 13.0625 8.265625 \nQ 6.59375 17.96875 6.59375 36.375 \nQ 6.59375 54.828125 13.0625 64.515625 \nQ 19.53125 74.21875 31.78125 74.21875 \nz\n\" id=\"DejaVuSans-48\"/>\n       <path d=\"M 10.6875 12.40625 \nL 21 12.40625 \nL 21 0 \nL 10.6875 0 \nz\n\" id=\"DejaVuSans-46\"/>\n      </defs>\n      <g transform=\"translate(46.916619 239.238437)scale(0.1 -0.1)\">\n       <use xlink:href=\"#DejaVuSans-48\"/>\n       <use x=\"63.623047\" xlink:href=\"#DejaVuSans-46\"/>\n       <use x=\"95.410156\" xlink:href=\"#DejaVuSans-48\"/>\n      </g>\n     </g>\n    </g>\n    <g id=\"xtick_2\">\n     <g id=\"line2d_3\">\n      <path clip-path=\"url(#p80ea6a9bb7)\" d=\"M 115.740909 224.64 \nL 115.740909 7.2 \n\" style=\"fill:none;stroke:#b0b0b0;stroke-linecap:square;stroke-width:0.8;\"/>\n     </g>\n     <g id=\"line2d_4\">\n      <g>\n       <use style=\"stroke:#000000;stroke-width:0.8;\" x=\"115.740909\" xlink:href=\"#mb00e691af2\" y=\"224.64\"/>\n      </g>\n     </g>\n     <g id=\"text_2\">\n      <!-- 0.2 -->\n      <defs>\n       <path d=\"M 19.1875 8.296875 \nL 53.609375 8.296875 \nL 53.609375 0 \nL 7.328125 0 \nL 7.328125 8.296875 \nQ 12.9375 14.109375 22.625 23.890625 \nQ 32.328125 33.6875 34.8125 36.53125 \nQ 39.546875 41.84375 41.421875 45.53125 \nQ 43.3125 49.21875 43.3125 52.78125 \nQ 43.3125 58.59375 39.234375 62.25 \nQ 35.15625 65.921875 28.609375 65.921875 \nQ 23.96875 65.921875 18.8125 64.3125 \nQ 13.671875 62.703125 7.8125 59.421875 \nL 7.8125 69.390625 \nQ 13.765625 71.78125 18.9375 73 \nQ 24.125 74.21875 28.421875 74.21875 \nQ 39.75 74.21875 46.484375 68.546875 \nQ 53.21875 62.890625 53.21875 53.421875 \nQ 53.21875 48.921875 51.53125 44.890625 \nQ 49.859375 40.875 45.40625 35.40625 \nQ 44.1875 33.984375 37.640625 27.21875 \nQ 31.109375 20.453125 19.1875 8.296875 \nz\n\" id=\"DejaVuSans-50\"/>\n      </defs>\n      <g transform=\"translate(107.789347 239.238437)scale(0.1 -0.1)\">\n       <use xlink:href=\"#DejaVuSans-48\"/>\n       <use x=\"63.623047\" xlink:href=\"#DejaVuSans-46\"/>\n       <use x=\"95.410156\" xlink:href=\"#DejaVuSans-50\"/>\n      </g>\n     </g>\n    </g>\n    <g id=\"xtick_3\">\n     <g id=\"line2d_5\">\n      <path clip-path=\"url(#p80ea6a9bb7)\" d=\"M 176.613636 224.64 \nL 176.613636 7.2 \n\" style=\"fill:none;stroke:#b0b0b0;stroke-linecap:square;stroke-width:0.8;\"/>\n     </g>\n     <g id=\"line2d_6\">\n      <g>\n       <use style=\"stroke:#000000;stroke-width:0.8;\" x=\"176.613636\" xlink:href=\"#mb00e691af2\" y=\"224.64\"/>\n      </g>\n     </g>\n     <g id=\"text_3\">\n      <!-- 0.4 -->\n      <defs>\n       <path d=\"M 37.796875 64.3125 \nL 12.890625 25.390625 \nL 37.796875 25.390625 \nz\nM 35.203125 72.90625 \nL 47.609375 72.90625 \nL 47.609375 25.390625 \nL 58.015625 25.390625 \nL 58.015625 17.1875 \nL 47.609375 17.1875 \nL 47.609375 0 \nL 37.796875 0 \nL 37.796875 17.1875 \nL 4.890625 17.1875 \nL 4.890625 26.703125 \nz\n\" id=\"DejaVuSans-52\"/>\n      </defs>\n      <g transform=\"translate(168.662074 239.238437)scale(0.1 -0.1)\">\n       <use xlink:href=\"#DejaVuSans-48\"/>\n       <use x=\"63.623047\" xlink:href=\"#DejaVuSans-46\"/>\n       <use x=\"95.410156\" xlink:href=\"#DejaVuSans-52\"/>\n      </g>\n     </g>\n    </g>\n    <g id=\"xtick_4\">\n     <g id=\"line2d_7\">\n      <path clip-path=\"url(#p80ea6a9bb7)\" d=\"M 237.486364 224.64 \nL 237.486364 7.2 \n\" style=\"fill:none;stroke:#b0b0b0;stroke-linecap:square;stroke-width:0.8;\"/>\n     </g>\n     <g id=\"line2d_8\">\n      <g>\n       <use style=\"stroke:#000000;stroke-width:0.8;\" x=\"237.486364\" xlink:href=\"#mb00e691af2\" y=\"224.64\"/>\n      </g>\n     </g>\n     <g id=\"text_4\">\n      <!-- 0.6 -->\n      <defs>\n       <path d=\"M 33.015625 40.375 \nQ 26.375 40.375 22.484375 35.828125 \nQ 18.609375 31.296875 18.609375 23.390625 \nQ 18.609375 15.53125 22.484375 10.953125 \nQ 26.375 6.390625 33.015625 6.390625 \nQ 39.65625 6.390625 43.53125 10.953125 \nQ 47.40625 15.53125 47.40625 23.390625 \nQ 47.40625 31.296875 43.53125 35.828125 \nQ 39.65625 40.375 33.015625 40.375 \nz\nM 52.59375 71.296875 \nL 52.59375 62.3125 \nQ 48.875 64.0625 45.09375 64.984375 \nQ 41.3125 65.921875 37.59375 65.921875 \nQ 27.828125 65.921875 22.671875 59.328125 \nQ 17.53125 52.734375 16.796875 39.40625 \nQ 19.671875 43.65625 24.015625 45.921875 \nQ 28.375 48.1875 33.59375 48.1875 \nQ 44.578125 48.1875 50.953125 41.515625 \nQ 57.328125 34.859375 57.328125 23.390625 \nQ 57.328125 12.15625 50.6875 5.359375 \nQ 44.046875 -1.421875 33.015625 -1.421875 \nQ 20.359375 -1.421875 13.671875 8.265625 \nQ 6.984375 17.96875 6.984375 36.375 \nQ 6.984375 53.65625 15.1875 63.9375 \nQ 23.390625 74.21875 37.203125 74.21875 \nQ 40.921875 74.21875 44.703125 73.484375 \nQ 48.484375 72.75 52.59375 71.296875 \nz\n\" id=\"DejaVuSans-54\"/>\n      </defs>\n      <g transform=\"translate(229.534801 239.238437)scale(0.1 -0.1)\">\n       <use xlink:href=\"#DejaVuSans-48\"/>\n       <use x=\"63.623047\" xlink:href=\"#DejaVuSans-46\"/>\n       <use x=\"95.410156\" xlink:href=\"#DejaVuSans-54\"/>\n      </g>\n     </g>\n    </g>\n    <g id=\"xtick_5\">\n     <g id=\"line2d_9\">\n      <path clip-path=\"url(#p80ea6a9bb7)\" d=\"M 298.359091 224.64 \nL 298.359091 7.2 \n\" style=\"fill:none;stroke:#b0b0b0;stroke-linecap:square;stroke-width:0.8;\"/>\n     </g>\n     <g id=\"line2d_10\">\n      <g>\n       <use style=\"stroke:#000000;stroke-width:0.8;\" x=\"298.359091\" xlink:href=\"#mb00e691af2\" y=\"224.64\"/>\n      </g>\n     </g>\n     <g id=\"text_5\">\n      <!-- 0.8 -->\n      <defs>\n       <path d=\"M 31.78125 34.625 \nQ 24.75 34.625 20.71875 30.859375 \nQ 16.703125 27.09375 16.703125 20.515625 \nQ 16.703125 13.921875 20.71875 10.15625 \nQ 24.75 6.390625 31.78125 6.390625 \nQ 38.8125 6.390625 42.859375 10.171875 \nQ 46.921875 13.96875 46.921875 20.515625 \nQ 46.921875 27.09375 42.890625 30.859375 \nQ 38.875 34.625 31.78125 34.625 \nz\nM 21.921875 38.8125 \nQ 15.578125 40.375 12.03125 44.71875 \nQ 8.5 49.078125 8.5 55.328125 \nQ 8.5 64.0625 14.71875 69.140625 \nQ 20.953125 74.21875 31.78125 74.21875 \nQ 42.671875 74.21875 48.875 69.140625 \nQ 55.078125 64.0625 55.078125 55.328125 \nQ 55.078125 49.078125 51.53125 44.71875 \nQ 48 40.375 41.703125 38.8125 \nQ 48.828125 37.15625 52.796875 32.3125 \nQ 56.78125 27.484375 56.78125 20.515625 \nQ 56.78125 9.90625 50.3125 4.234375 \nQ 43.84375 -1.421875 31.78125 -1.421875 \nQ 19.734375 -1.421875 13.25 4.234375 \nQ 6.78125 9.90625 6.78125 20.515625 \nQ 6.78125 27.484375 10.78125 32.3125 \nQ 14.796875 37.15625 21.921875 38.8125 \nz\nM 18.3125 54.390625 \nQ 18.3125 48.734375 21.84375 45.5625 \nQ 25.390625 42.390625 31.78125 42.390625 \nQ 38.140625 42.390625 41.71875 45.5625 \nQ 45.3125 48.734375 45.3125 54.390625 \nQ 45.3125 60.0625 41.71875 63.234375 \nQ 38.140625 66.40625 31.78125 66.40625 \nQ 25.390625 66.40625 21.84375 63.234375 \nQ 18.3125 60.0625 18.3125 54.390625 \nz\n\" id=\"DejaVuSans-56\"/>\n      </defs>\n      <g transform=\"translate(290.407528 239.238437)scale(0.1 -0.1)\">\n       <use xlink:href=\"#DejaVuSans-48\"/>\n       <use x=\"63.623047\" xlink:href=\"#DejaVuSans-46\"/>\n       <use x=\"95.410156\" xlink:href=\"#DejaVuSans-56\"/>\n      </g>\n     </g>\n    </g>\n    <g id=\"xtick_6\">\n     <g id=\"line2d_11\">\n      <path clip-path=\"url(#p80ea6a9bb7)\" d=\"M 359.231818 224.64 \nL 359.231818 7.2 \n\" style=\"fill:none;stroke:#b0b0b0;stroke-linecap:square;stroke-width:0.8;\"/>\n     </g>\n     <g id=\"line2d_12\">\n      <g>\n       <use style=\"stroke:#000000;stroke-width:0.8;\" x=\"359.231818\" xlink:href=\"#mb00e691af2\" y=\"224.64\"/>\n      </g>\n     </g>\n     <g id=\"text_6\">\n      <!-- 1.0 -->\n      <defs>\n       <path d=\"M 12.40625 8.296875 \nL 28.515625 8.296875 \nL 28.515625 63.921875 \nL 10.984375 60.40625 \nL 10.984375 69.390625 \nL 28.421875 72.90625 \nL 38.28125 72.90625 \nL 38.28125 8.296875 \nL 54.390625 8.296875 \nL 54.390625 0 \nL 12.40625 0 \nz\n\" id=\"DejaVuSans-49\"/>\n      </defs>\n      <g transform=\"translate(351.280256 239.238437)scale(0.1 -0.1)\">\n       <use xlink:href=\"#DejaVuSans-49\"/>\n       <use x=\"63.623047\" xlink:href=\"#DejaVuSans-46\"/>\n       <use x=\"95.410156\" xlink:href=\"#DejaVuSans-48\"/>\n      </g>\n     </g>\n    </g>\n   </g>\n   <g id=\"matplotlib.axis_2\">\n    <g id=\"ytick_1\">\n     <g id=\"line2d_13\">\n      <path clip-path=\"url(#p80ea6a9bb7)\" d=\"M 39.65 224.64 \nL 374.45 224.64 \n\" style=\"fill:none;stroke:#b0b0b0;stroke-linecap:square;stroke-width:0.8;\"/>\n     </g>\n     <g id=\"line2d_14\">\n      <defs>\n       <path d=\"M 0 0 \nL -3.5 0 \n\" id=\"m016957e100\" style=\"stroke:#000000;stroke-width:0.8;\"/>\n      </defs>\n      <g>\n       <use style=\"stroke:#000000;stroke-width:0.8;\" x=\"39.65\" xlink:href=\"#m016957e100\" y=\"224.64\"/>\n      </g>\n     </g>\n     <g id=\"text_7\">\n      <!-- 0 -->\n      <g transform=\"translate(26.2875 228.439219)scale(0.1 -0.1)\">\n       <use xlink:href=\"#DejaVuSans-48\"/>\n      </g>\n     </g>\n    </g>\n    <g id=\"ytick_2\">\n     <g id=\"line2d_15\">\n      <path clip-path=\"url(#p80ea6a9bb7)\" d=\"M 39.65 184.623437 \nL 374.45 184.623437 \n\" style=\"fill:none;stroke:#b0b0b0;stroke-linecap:square;stroke-width:0.8;\"/>\n     </g>\n     <g id=\"line2d_16\">\n      <g>\n       <use style=\"stroke:#000000;stroke-width:0.8;\" x=\"39.65\" xlink:href=\"#m016957e100\" y=\"184.623437\"/>\n      </g>\n     </g>\n     <g id=\"text_8\">\n      <!-- 200 -->\n      <g transform=\"translate(13.5625 188.422656)scale(0.1 -0.1)\">\n       <use xlink:href=\"#DejaVuSans-50\"/>\n       <use x=\"63.623047\" xlink:href=\"#DejaVuSans-48\"/>\n       <use x=\"127.246094\" xlink:href=\"#DejaVuSans-48\"/>\n      </g>\n     </g>\n    </g>\n    <g id=\"ytick_3\">\n     <g id=\"line2d_17\">\n      <path clip-path=\"url(#p80ea6a9bb7)\" d=\"M 39.65 144.606874 \nL 374.45 144.606874 \n\" style=\"fill:none;stroke:#b0b0b0;stroke-linecap:square;stroke-width:0.8;\"/>\n     </g>\n     <g id=\"line2d_18\">\n      <g>\n       <use style=\"stroke:#000000;stroke-width:0.8;\" x=\"39.65\" xlink:href=\"#m016957e100\" y=\"144.606874\"/>\n      </g>\n     </g>\n     <g id=\"text_9\">\n      <!-- 400 -->\n      <g transform=\"translate(13.5625 148.406092)scale(0.1 -0.1)\">\n       <use xlink:href=\"#DejaVuSans-52\"/>\n       <use x=\"63.623047\" xlink:href=\"#DejaVuSans-48\"/>\n       <use x=\"127.246094\" xlink:href=\"#DejaVuSans-48\"/>\n      </g>\n     </g>\n    </g>\n    <g id=\"ytick_4\">\n     <g id=\"line2d_19\">\n      <path clip-path=\"url(#p80ea6a9bb7)\" d=\"M 39.65 104.590311 \nL 374.45 104.590311 \n\" style=\"fill:none;stroke:#b0b0b0;stroke-linecap:square;stroke-width:0.8;\"/>\n     </g>\n     <g id=\"line2d_20\">\n      <g>\n       <use style=\"stroke:#000000;stroke-width:0.8;\" x=\"39.65\" xlink:href=\"#m016957e100\" y=\"104.590311\"/>\n      </g>\n     </g>\n     <g id=\"text_10\">\n      <!-- 600 -->\n      <g transform=\"translate(13.5625 108.389529)scale(0.1 -0.1)\">\n       <use xlink:href=\"#DejaVuSans-54\"/>\n       <use x=\"63.623047\" xlink:href=\"#DejaVuSans-48\"/>\n       <use x=\"127.246094\" xlink:href=\"#DejaVuSans-48\"/>\n      </g>\n     </g>\n    </g>\n    <g id=\"ytick_5\">\n     <g id=\"line2d_21\">\n      <path clip-path=\"url(#p80ea6a9bb7)\" d=\"M 39.65 64.573747 \nL 374.45 64.573747 \n\" style=\"fill:none;stroke:#b0b0b0;stroke-linecap:square;stroke-width:0.8;\"/>\n     </g>\n     <g id=\"line2d_22\">\n      <g>\n       <use style=\"stroke:#000000;stroke-width:0.8;\" x=\"39.65\" xlink:href=\"#m016957e100\" y=\"64.573747\"/>\n      </g>\n     </g>\n     <g id=\"text_11\">\n      <!-- 800 -->\n      <g transform=\"translate(13.5625 68.372966)scale(0.1 -0.1)\">\n       <use xlink:href=\"#DejaVuSans-56\"/>\n       <use x=\"63.623047\" xlink:href=\"#DejaVuSans-48\"/>\n       <use x=\"127.246094\" xlink:href=\"#DejaVuSans-48\"/>\n      </g>\n     </g>\n    </g>\n    <g id=\"ytick_6\">\n     <g id=\"line2d_23\">\n      <path clip-path=\"url(#p80ea6a9bb7)\" d=\"M 39.65 24.557184 \nL 374.45 24.557184 \n\" style=\"fill:none;stroke:#b0b0b0;stroke-linecap:square;stroke-width:0.8;\"/>\n     </g>\n     <g id=\"line2d_24\">\n      <g>\n       <use style=\"stroke:#000000;stroke-width:0.8;\" x=\"39.65\" xlink:href=\"#m016957e100\" y=\"24.557184\"/>\n      </g>\n     </g>\n     <g id=\"text_12\">\n      <!-- 1000 -->\n      <g transform=\"translate(7.2 28.356403)scale(0.1 -0.1)\">\n       <use xlink:href=\"#DejaVuSans-49\"/>\n       <use x=\"63.623047\" xlink:href=\"#DejaVuSans-48\"/>\n       <use x=\"127.246094\" xlink:href=\"#DejaVuSans-48\"/>\n       <use x=\"190.869141\" xlink:href=\"#DejaVuSans-48\"/>\n      </g>\n     </g>\n    </g>\n   </g>\n   <g id=\"patch_13\">\n    <path d=\"M 39.65 224.64 \nL 39.65 7.2 \n\" style=\"fill:none;stroke:#000000;stroke-linecap:square;stroke-linejoin:miter;stroke-width:0.8;\"/>\n   </g>\n   <g id=\"patch_14\">\n    <path d=\"M 374.45 224.64 \nL 374.45 7.2 \n\" style=\"fill:none;stroke:#000000;stroke-linecap:square;stroke-linejoin:miter;stroke-width:0.8;\"/>\n   </g>\n   <g id=\"patch_15\">\n    <path d=\"M 39.65 224.64 \nL 374.45 224.64 \n\" style=\"fill:none;stroke:#000000;stroke-linecap:square;stroke-linejoin:miter;stroke-width:0.8;\"/>\n   </g>\n   <g id=\"patch_16\">\n    <path d=\"M 39.65 7.2 \nL 374.45 7.2 \n\" style=\"fill:none;stroke:#000000;stroke-linecap:square;stroke-linejoin:miter;stroke-width:0.8;\"/>\n   </g>\n  </g>\n </g>\n <defs>\n  <clipPath id=\"p80ea6a9bb7\">\n   <rect height=\"217.44\" width=\"334.8\" x=\"39.65\" y=\"7.2\"/>\n  </clipPath>\n </defs>\n</svg>\n",
      "image/png": "[encoded data removed]"
     },
     "metadata": {
      "needs_background": "light"
     }
    }
   ],
   "source": [
    "# min-max normalize\n",
    "gnrmc[\"Min-max scaled speed\"] = ( gnrmc[\"Speed over ground\"] - gnrmc[\"Speed over ground\"].min() ) / ( gnrmc[\"Speed over ground\"].max() - gnrmc[\"Speed over ground\"].min() )\n",
    "gnrmc[\"Min-max scaled speed\"].hist()\n",
    "# Standardize\n",
    "# gnrmc[\"Standard scaled speed\"] = ( gnrmc[\"Speed over ground\"] - gnrmc[\"Speed over ground\"].mean() ) / gnrmc[\"Speed over ground\"].std()\n",
    "# gnrmc[\"Standard scaled speed\"].hist()"
   ]
  },
  {
   "cell_type": "code",
   "execution_count": 10,
   "metadata": {
    "tags": []
   },
   "outputs": [
    {
     "output_type": "execute_result",
     "data": {
      "text/plain": [
       "(37.88359775166667, 139.05720127166666)"
      ]
     },
     "metadata": {},
     "execution_count": 10
    }
   ],
   "source": [
    "path_coords = gnrmc[[\"Latitude\", \"Longitude\"]].values\n",
    "# array to tuple list\n",
    "path_coords = list(map(tuple, path_coords))\n",
    "path_coords[0]"
   ]
  },
  {
   "cell_type": "code",
   "execution_count": 13,
   "metadata": {
    "tags": []
   },
   "outputs": [],
   "source": [
    "# Use simplekml to create kml\n",
    "# Standardize the height (Speed)\n",
    "# https://simplekml.readthedocs.io/en/latest/\n",
    "# https://simplekml.readthedocs.io/en/latest/geometries.html#simplekml.LineString\n",
    "\n",
    "kml = simplekml.Kml()\n",
    "kml.document.name = \"Test\"\n",
    "\n",
    "lin = kml.newlinestring(\n",
    "    name=\"Pathway\", \n",
    "    description=\"A pathway in Toyano.\",\n",
    "    coords=path_coords)\n",
    "\n",
    "kml.save(\"data/kml/path.kml\")\n"
   ]
  },
  {
   "cell_type": "code",
   "execution_count": 75,
   "metadata": {
    "tags": []
   },
   "outputs": [],
   "source": [
    "# print(kml.kml())"
   ]
  },
  {
   "cell_type": "code",
   "execution_count": null,
   "metadata": {},
   "outputs": [],
   "source": []
  },
  {
   "cell_type": "code",
   "execution_count": null,
   "metadata": {},
   "outputs": [],
   "source": []
  },
  {
   "cell_type": "code",
   "execution_count": null,
   "metadata": {},
   "outputs": [],
   "source": []
  }
 ]
}